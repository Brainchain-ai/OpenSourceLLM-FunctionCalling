{
 "cells": [
  {
   "cell_type": "code",
   "execution_count": 1,
   "id": "64f229fc",
   "metadata": {},
   "outputs": [
    {
     "name": "stdout",
     "output_type": "stream",
     "text": [
      "The price of the European call option is:  1.5677013023224062e+243\n"
     ]
    }
   ],
   "source": [
    "import numpy as np\n",
    "\n",
    "# Parameters required for the Heston Model\n",
    "S0 = 100   # initial stock price\n",
    "K = 105    # strike price\n",
    "T = 1.0    # time to maturity\n",
    "r = 0.05   # risk-free interest rate\n",
    "kappa = 2  # mean reversion speed\n",
    "theta = 0.02 # long-term mean of the variance\n",
    "sigma = 0.3 # vol of vol\n",
    "rho = -0.5 # correlation between Brownian motions\n",
    "\n",
    "# Parameters required for finite difference method\n",
    "M = 1000     # number of stock price grid points\n",
    "N = 1000     # number of variance grid points\n",
    "dt = T/100  # time step\n",
    "ds = 2*S0/M # stock price increment\n",
    "dv = 0.04/N # variance increment\n",
    "\n",
    "# Create stock price and variance grids\n",
    "S = np.linspace(0.1, 2*S0, M+1)\n",
    "v = np.linspace(0.001,0.4,N+1)\n",
    "\n",
    "# Compute the boundary condition at expiration\n",
    "C = np.maximum(S - K, 0)\n",
    "\n",
    "# Set up the matrix A in the finite difference method\n",
    "a = kappa*theta\n",
    "b = kappa\n",
    "c = 0.5*sigma**2\n",
    "d = -rho*kappa*sigma\n",
    "e = 0.5*sigma**2\n",
    "\n",
    "A1 = dt/dv * (b*v - a)/(1 - rho**2)\n",
    "A2 = dt/dv * (c*v + d*rho*sigma)\n",
    "A3 = dt/dv * (e*v + 0.5*d)\n",
    "B = dt*r\n",
    "\n",
    "diag1 = -2*A1 - r*dt - 1\n",
    "diag2 = A1[1:]\n",
    "diag3 = A1[:-1]\n",
    "M1 = np.diag(diag1) + np.diag(diag2, -1) + np.diag(diag3, 1)\n",
    "\n",
    "diag1 = -2*A2 - 1\n",
    "diag2 = A2[1:]\n",
    "diag3 = A2[:-1]\n",
    "M2 = np.diag(diag1) + np.diag(diag2, -1) + np.diag(diag3, 1)\n",
    "\n",
    "diag1 = -2*A3\n",
    "diag2 = A3[1:]\n",
    "diag3 = A3[:-1]\n",
    "M3 = np.diag(diag1) + np.diag(diag2, -1) + np.diag(diag3, 1)\n",
    "\n",
    "# Solve for the option price at each point in the grid\n",
    "for i in range(N):\n",
    "    Cn = C.astype('float64')\n",
    "    Cn = np.linalg.solve(M1, Cn)\n",
    "    Cn = np.linalg.solve(M2, Cn)\n",
    "    Cn = np.linalg.solve(M3, Cn)\n",
    "    C = Cn.copy()\n",
    "    C[0] = 0\n",
    "    C[-1] = (S[-1] - K)*np.exp(-r*dt*(N-i))\n",
    "    \n",
    "# Output the price of the option\n",
    "print('The price of the European call option is: ', C[M//2])"
   ]
  },
  {
   "cell_type": "code",
   "execution_count": null,
   "id": "26f45330",
   "metadata": {},
   "outputs": [],
   "source": []
  }
 ],
 "metadata": {
  "kernelspec": {
   "display_name": "Python 3 (ipykernel)",
   "language": "python",
   "name": "python3"
  },
  "language_info": {
   "codemirror_mode": {
    "name": "ipython",
    "version": 3
   },
   "file_extension": ".py",
   "mimetype": "text/x-python",
   "name": "python",
   "nbconvert_exporter": "python",
   "pygments_lexer": "ipython3",
   "version": "3.11.3"
  }
 },
 "nbformat": 4,
 "nbformat_minor": 5
}
