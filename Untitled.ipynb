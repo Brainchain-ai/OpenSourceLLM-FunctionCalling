{
 "cells": [
  {
   "cell_type": "code",
   "execution_count": 3,
   "id": "4d5f4db4",
   "metadata": {},
   "outputs": [],
   "source": [
    "import numpy as np\n",
    "import torch"
   ]
  },
  {
   "cell_type": "code",
   "execution_count": 11,
   "id": "c662fa1b",
   "metadata": {},
   "outputs": [],
   "source": [
    "x = torch.Tensor(np.linspace())"
   ]
  },
  {
   "cell_type": "code",
   "execution_count": 12,
   "id": "1de42ef4",
   "metadata": {},
   "outputs": [
    {
     "data": {
      "text/plain": [
       "tensor([5., 5., 5., 5., 5., 5., 5., 5., 5., 5., 5., 5., 5., 5., 5., 5., 5., 5.,\n",
       "        5., 5., 5., 5., 5., 5., 5., 5., 5., 5., 5., 5., 5., 5., 5., 5., 5., 5.,\n",
       "        5., 5., 5., 5., 5., 5., 5., 5., 5., 5., 5., 5., 5., 5.])"
      ]
     },
     "execution_count": 12,
     "metadata": {},
     "output_type": "execute_result"
    }
   ],
   "source": [
    "x"
   ]
  },
  {
   "cell_type": "code",
   "execution_count": null,
   "id": "fff34da8",
   "metadata": {},
   "outputs": [],
   "source": []
  },
  {
   "cell_type": "code",
   "execution_count": 10,
   "id": "cc6e464b",
   "metadata": {},
   "outputs": [
    {
     "data": {
      "text/plain": [
       "tensor([5.0000, 4.8980, 4.7959, 4.6939, 4.5918, 4.4898, 4.3878, 4.2857, 4.1837,\n",
       "        4.0816, 3.9796, 3.8776, 3.7755, 3.6735, 3.5714, 3.4694, 3.3673, 3.2653,\n",
       "        3.1633, 3.0612, 2.9592, 2.8571, 2.7551, 2.6531, 2.5510, 2.4490, 2.3469,\n",
       "        2.2449, 2.1429, 2.0408, 1.9388, 1.8367, 1.7347, 1.6327, 1.5306, 1.4286,\n",
       "        1.3265, 1.2245, 1.1224, 1.0204, 0.9184, 0.8163, 0.7143, 0.6122, 0.5102,\n",
       "        0.4082, 0.3061, 0.2041, 0.1020, 0.0000])"
      ]
     },
     "execution_count": 10,
     "metadata": {},
     "output_type": "execute_result"
    }
   ],
   "source": [
    "x"
   ]
  },
  {
   "cell_type": "code",
   "execution_count": null,
   "id": "f44960c7",
   "metadata": {},
   "outputs": [],
   "source": []
  },
  {
   "cell_type": "code",
   "execution_count": 8,
   "id": "3cea2f23",
   "metadata": {},
   "outputs": [
    {
     "data": {
      "text/plain": [
       "tensor([0., 0., 0., 0., 0., 0., 0., 0., 0., 0., 0., 0., 0., 0., 0., 0., 0., 0., 0., 0., 0., 0., 0., 0.,\n",
       "        0., 0., 0., 0., 0., 0., 0., 0., 0., 0., 0., 0., 0., 0., 0., 0., 0., 0., 0., 0., 0., 0., 0., 0.,\n",
       "        0., 0.])"
      ]
     },
     "execution_count": 8,
     "metadata": {},
     "output_type": "execute_result"
    }
   ],
   "source": [
    "x"
   ]
  },
  {
   "cell_type": "code",
   "execution_count": null,
   "id": "b15ddd1f",
   "metadata": {},
   "outputs": [],
   "source": []
  },
  {
   "cell_type": "code",
   "execution_count": 6,
   "id": "d77de096",
   "metadata": {},
   "outputs": [
    {
     "data": {
      "text/plain": [
       "tensor([1000.0000,  979.5919,  959.1837,  938.7755,  918.3674,  897.9592,\n",
       "         877.5510,  857.1429,  836.7347,  816.3265,  795.9184,  775.5102,\n",
       "         755.1021,  734.6938,  714.2857,  693.8776,  673.4694,  653.0612,\n",
       "         632.6531,  612.2449,  591.8367,  571.4286,  551.0204,  530.6122,\n",
       "         510.2041,  489.7959,  469.3878,  448.9796,  428.5714,  408.1633,\n",
       "         387.7551,  367.3469,  346.9388,  326.5306,  306.1224,  285.7143,\n",
       "         265.3061,  244.8980,  224.4898,  204.0816,  183.6735,  163.2653,\n",
       "         142.8571,  122.4490,  102.0408,   81.6327,   61.2245,   40.8163,\n",
       "          20.4082,    0.0000])"
      ]
     },
     "execution_count": 6,
     "metadata": {},
     "output_type": "execute_result"
    }
   ],
   "source": [
    "x"
   ]
  },
  {
   "cell_type": "code",
   "execution_count": null,
   "id": "c190ede5",
   "metadata": {},
   "outputs": [],
   "source": []
  },
  {
   "cell_type": "code",
   "execution_count": null,
   "id": "cd499a72",
   "metadata": {},
   "outputs": [],
   "source": []
  },
  {
   "cell_type": "code",
   "execution_count": null,
   "id": "22c6b2e0",
   "metadata": {},
   "outputs": [],
   "source": []
  },
  {
   "cell_type": "code",
   "execution_count": null,
   "id": "5e073555",
   "metadata": {},
   "outputs": [],
   "source": []
  }
 ],
 "metadata": {
  "kernelspec": {
   "display_name": "Python 3 (ipykernel)",
   "language": "python",
   "name": "python3"
  },
  "language_info": {
   "codemirror_mode": {
    "name": "ipython",
    "version": 3
   },
   "file_extension": ".py",
   "mimetype": "text/x-python",
   "name": "python",
   "nbconvert_exporter": "python",
   "pygments_lexer": "ipython3",
   "version": "3.11.3"
  }
 },
 "nbformat": 4,
 "nbformat_minor": 5
}
