{
 "cells": [
  {
   "cell_type": "code",
   "execution_count": 1,
   "id": "813887bf",
   "metadata": {
    "tags": []
   },
   "outputs": [
    {
     "name": "stdout",
     "output_type": "stream",
     "text": [
      "\u001b[33mWARNING: Skipping /Users/arthur/miniconda3/lib/python3.11/site-packages/requests-2.28.2.dist-info due to invalid metadata entry 'name'\u001b[0m\u001b[33m\n",
      "\u001b[0m\u001b[33mDEPRECATION: Loading egg at /Users/arthur/miniconda3/lib/python3.11/site-packages/tree_of_thoughts-0.2.8-py3.11.egg is deprecated. pip 23.3 will enforce this behaviour change. A possible replacement is to use pip for package installation..\u001b[0m\u001b[33m\n",
      "\u001b[0m\u001b[33mDEPRECATION: Loading egg at /Users/arthur/miniconda3/lib/python3.11/site-packages/promptlayer-0.1.90-py3.11.egg is deprecated. pip 23.3 will enforce this behaviour change. A possible replacement is to use pip for package installation..\u001b[0m\u001b[33m\n",
      "\u001b[0m\u001b[33mDEPRECATION: Loading egg at /Users/arthur/miniconda3/lib/python3.11/site-packages/tiktoken-0.4.0-py3.11-macosx-11.1-arm64.egg is deprecated. pip 23.3 will enforce this behaviour change. A possible replacement is to use pip for package installation..\u001b[0m\u001b[33m\n",
      "\u001b[0m\u001b[33mDEPRECATION: Loading egg at /Users/arthur/miniconda3/lib/python3.11/site-packages/tree_of_thoughts-0.2.7-py3.11.egg is deprecated. pip 23.3 will enforce this behaviour change. A possible replacement is to use pip for package installation..\u001b[0m\u001b[33m\n",
      "\u001b[0mRequirement already satisfied: llama-cpp-python in /Users/arthur/miniconda3/lib/python3.11/site-packages (0.1.53)\n",
      "Collecting llama-cpp-python\n",
      "  Downloading llama_cpp_python-0.1.83.tar.gz (1.8 MB)\n",
      "\u001b[2K     \u001b[38;2;114;156;31m━━━━━━━━━━━━━━━━━━━━━━━━━━━━━━━━━━━━━━━━\u001b[0m \u001b[32m1.8/1.8 MB\u001b[0m \u001b[31m29.3 MB/s\u001b[0m eta \u001b[36m0:00:00\u001b[0m MB/s\u001b[0m eta \u001b[36m0:00:01\u001b[0m\n",
      "\u001b[?25h  Installing build dependencies ... \u001b[?25ldone\n",
      "\u001b[?25h  Getting requirements to build wheel ... \u001b[?25ldone\n",
      "\u001b[?25h  Preparing metadata (pyproject.toml) ... \u001b[?25ldone\n",
      "\u001b[?25hRequirement already satisfied: typing-extensions>=4.5.0 in /Users/arthur/miniconda3/lib/python3.11/site-packages (from llama-cpp-python) (4.6.3)\n",
      "Requirement already satisfied: numpy>=1.20.0 in /Users/arthur/miniconda3/lib/python3.11/site-packages (from llama-cpp-python) (1.25.2)\n",
      "Requirement already satisfied: diskcache>=5.6.1 in /Users/arthur/miniconda3/lib/python3.11/site-packages (from llama-cpp-python) (5.6.1)\n",
      "Building wheels for collected packages: llama-cpp-python\n",
      "  Building wheel for llama-cpp-python (pyproject.toml) ... \u001b[?25ldone\n",
      "\u001b[?25h  Created wheel for llama-cpp-python: filename=llama_cpp_python-0.1.83-cp311-cp311-macosx_13_0_arm64.whl size=333902 sha256=800b19b012593d27e554c6bd258b8e472a9dca726d85d382c886ad028f42d593\n",
      "  Stored in directory: /Users/arthur/Library/Caches/pip/wheels/25/d2/5b/9f3c919284f260835ba686d041a70e06ae7c35adc62493188e\n",
      "Successfully built llama-cpp-python\n",
      "\u001b[33mWARNING: Skipping /Users/arthur/miniconda3/lib/python3.11/site-packages/requests-2.28.2.dist-info due to invalid metadata entry 'name'\u001b[0m\u001b[33m\n",
      "\u001b[0mInstalling collected packages: llama-cpp-python\n",
      "  Attempting uninstall: llama-cpp-python\n",
      "    Found existing installation: llama-cpp-python 0.1.53\n",
      "    Uninstalling llama-cpp-python-0.1.53:\n",
      "      Successfully uninstalled llama-cpp-python-0.1.53\n",
      "Successfully installed llama-cpp-python-0.1.83\n",
      "\u001b[33mWARNING: Skipping /Users/arthur/miniconda3/lib/python3.11/site-packages/requests-2.28.2.dist-info due to invalid metadata entry 'name'\u001b[0m\u001b[33m\n",
      "\u001b[0m\u001b[33mWARNING: Skipping /Users/arthur/miniconda3/lib/python3.11/site-packages/requests-2.28.2.dist-info due to invalid metadata entry 'name'\u001b[0m\u001b[33m\n",
      "\u001b[0m"
     ]
    }
   ],
   "source": [
    "!pip install llama-cpp-python --upgrade"
   ]
  },
  {
   "cell_type": "code",
   "execution_count": 2,
   "id": "1ded8791",
   "metadata": {
    "tags": []
   },
   "outputs": [
    {
     "name": "stderr",
     "output_type": "stream",
     "text": [
      "gguf_init_from_file: invalid magic number 67676a74\n",
      "error loading model: llama_model_loader: failed to load model from /Users/arthur/AI/LLM/llama.cpp/models/gpt4-alpaca-lora_mlp-65B.ggmlv3.q4_1.bin\n",
      "\n",
      "llama_load_model_from_file: failed to load model\n"
     ]
    },
    {
     "ename": "ValidationError",
     "evalue": "1 validation error for LlamaCpp\n__root__\n  Could not load Llama model from path: /Users/arthur/AI/LLM/llama.cpp/models/gpt4-alpaca-lora_mlp-65B.ggmlv3.q4_1.bin. Received error  (type=value_error)",
     "output_type": "error",
     "traceback": [
      "\u001b[0;31m---------------------------------------------------------------------------\u001b[0m",
      "\u001b[0;31mValidationError\u001b[0m                           Traceback (most recent call last)",
      "Cell \u001b[0;32mIn[2], line 42\u001b[0m\n\u001b[1;32m     39\u001b[0m     \u001b[38;5;28;01melse\u001b[39;00m:\n\u001b[1;32m     40\u001b[0m         \u001b[38;5;28;01mreturn\u001b[39;00m {}\n\u001b[0;32m---> 42\u001b[0m api \u001b[38;5;241m=\u001b[39m DictionaryApi()\n\u001b[1;32m     44\u001b[0m \u001b[38;5;28;01mdef\u001b[39;00m \u001b[38;5;21mgetdef\u001b[39m(language, word, dico\u001b[38;5;241m=\u001b[39mapi):\n\u001b[1;32m     45\u001b[0m     word \u001b[38;5;241m=\u001b[39m dico\u001b[38;5;241m.\u001b[39mdefine(language, word)\n",
      "Cell \u001b[0;32mIn[2], line 21\u001b[0m, in \u001b[0;36mDictionaryApi.__init__\u001b[0;34m(self, model_path, template)\u001b[0m\n\u001b[1;32m     19\u001b[0m \u001b[38;5;28mself\u001b[39m\u001b[38;5;241m.\u001b[39mtemplate \u001b[38;5;241m=\u001b[39m template\n\u001b[1;32m     20\u001b[0m \u001b[38;5;28mself\u001b[39m\u001b[38;5;241m.\u001b[39mcallback_manager \u001b[38;5;241m=\u001b[39m BaseCallbackManager([StreamingStdOutCallbackHandler()])\n\u001b[0;32m---> 21\u001b[0m \u001b[38;5;28mself\u001b[39m\u001b[38;5;241m.\u001b[39mllm \u001b[38;5;241m=\u001b[39m LlamaCpp(\n\u001b[1;32m     22\u001b[0m     model_path\u001b[38;5;241m=\u001b[39m\u001b[38;5;28mself\u001b[39m\u001b[38;5;241m.\u001b[39mmodel_path, callback_manager\u001b[38;5;241m=\u001b[39m\u001b[38;5;28mself\u001b[39m\u001b[38;5;241m.\u001b[39mcallback_manager, verbose\u001b[38;5;241m=\u001b[39m\u001b[38;5;28;01mTrue\u001b[39;00m,\n\u001b[1;32m     23\u001b[0m     max_tokens\u001b[38;5;241m=\u001b[39m\u001b[38;5;241m1800\u001b[39m, n_ctx\u001b[38;5;241m=\u001b[39m\u001b[38;5;241m2048\u001b[39m\n\u001b[1;32m     24\u001b[0m )\n\u001b[1;32m     25\u001b[0m \u001b[38;5;28mself\u001b[39m\u001b[38;5;241m.\u001b[39mprompt \u001b[38;5;241m=\u001b[39m PromptTemplate(template\u001b[38;5;241m=\u001b[39m\u001b[38;5;28mself\u001b[39m\u001b[38;5;241m.\u001b[39mtemplate, input_variables\u001b[38;5;241m=\u001b[39m[\u001b[38;5;124m\"\u001b[39m\u001b[38;5;124mlanguage\u001b[39m\u001b[38;5;124m\"\u001b[39m, \u001b[38;5;124m\"\u001b[39m\u001b[38;5;124mword_to_define\u001b[39m\u001b[38;5;124m\"\u001b[39m])\n\u001b[1;32m     26\u001b[0m \u001b[38;5;28mself\u001b[39m\u001b[38;5;241m.\u001b[39mllm_chain \u001b[38;5;241m=\u001b[39m  LLMChain(prompt\u001b[38;5;241m=\u001b[39m\u001b[38;5;28mself\u001b[39m\u001b[38;5;241m.\u001b[39mprompt, llm\u001b[38;5;241m=\u001b[39m\u001b[38;5;28mself\u001b[39m\u001b[38;5;241m.\u001b[39mllm)\n",
      "File \u001b[0;32m~/miniconda3/lib/python3.11/site-packages/langchain/load/serializable.py:74\u001b[0m, in \u001b[0;36mSerializable.__init__\u001b[0;34m(self, **kwargs)\u001b[0m\n\u001b[1;32m     73\u001b[0m \u001b[38;5;28;01mdef\u001b[39;00m \u001b[38;5;21m__init__\u001b[39m(\u001b[38;5;28mself\u001b[39m, \u001b[38;5;241m*\u001b[39m\u001b[38;5;241m*\u001b[39mkwargs: Any) \u001b[38;5;241m-\u001b[39m\u001b[38;5;241m>\u001b[39m \u001b[38;5;28;01mNone\u001b[39;00m:\n\u001b[0;32m---> 74\u001b[0m     \u001b[38;5;28msuper\u001b[39m()\u001b[38;5;241m.\u001b[39m\u001b[38;5;21m__init__\u001b[39m(\u001b[38;5;241m*\u001b[39m\u001b[38;5;241m*\u001b[39mkwargs)\n\u001b[1;32m     75\u001b[0m     \u001b[38;5;28mself\u001b[39m\u001b[38;5;241m.\u001b[39m_lc_kwargs \u001b[38;5;241m=\u001b[39m kwargs\n",
      "File \u001b[0;32m~/miniconda3/lib/python3.11/site-packages/pydantic/main.py:341\u001b[0m, in \u001b[0;36mpydantic.main.BaseModel.__init__\u001b[0;34m()\u001b[0m\n",
      "\u001b[0;31mValidationError\u001b[0m: 1 validation error for LlamaCpp\n__root__\n  Could not load Llama model from path: /Users/arthur/AI/LLM/llama.cpp/models/gpt4-alpaca-lora_mlp-65B.ggmlv3.q4_1.bin. Received error  (type=value_error)"
     ]
    }
   ],
   "source": [
    "from langchain.llms import LlamaCpp\n",
    "from langchain import PromptTemplate, LLMChain\n",
    "from langchain.callbacks.base import BaseCallbackManager\n",
    "from langchain.callbacks.streaming_stdout import StreamingStdOutCallbackHandler\n",
    "from collections import Counter\n",
    "import json\n",
    "\n",
    "DICTIONARY_API_PROMPT_TEMPLATE = \"\"\"Input: {language} {word_to_define} \\\n",
    "Output: Emit a JSON response with 2 keys: 'word' for the word that we want to define \\\n",
    "    (adjusting for {language}), and 'definitions', which has an array of all correct and valid \\\n",
    "        string definitions of the word for the definitions (in the correct output {language}).\n",
    "\"\"\"\n",
    "\n",
    "DICTIONARY_API_MODEL_PATH =  '/Users/arthur/AI/LLM/llama.cpp/models/gpt4-alpaca-lora_mlp-65B.ggmlv3.q4_1.bin'\n",
    "\n",
    "class DictionaryApi():\n",
    "    def __init__(self, model_path=DICTIONARY_API_MODEL_PATH, template=DICTIONARY_API_PROMPT_TEMPLATE):\n",
    "        self.model_path = model_path\n",
    "        self.template = template\n",
    "        self.callback_manager = BaseCallbackManager([StreamingStdOutCallbackHandler()])\n",
    "        self.llm = LlamaCpp(\n",
    "            model_path=self.model_path, callback_manager=self.callback_manager, verbose=True,\n",
    "            max_tokens=1800, n_ctx=2048\n",
    "        )\n",
    "        self.prompt = PromptTemplate(template=self.template, input_variables=[\"language\", \"word_to_define\"])\n",
    "        self.llm_chain =  LLMChain(prompt=self.prompt, llm=self.llm)\n",
    "\n",
    "    def define(self, language, word):\n",
    "        return self.llm_chain.run({\"language\": language, \"word_to_define\": word}).strip()\n",
    "\n",
    "def extract(word):\n",
    "    c = Counter(word)\n",
    "    if \"{\" in word and \"}\" in word:\n",
    "        open_b, ob_p = c['{'], word.index(\"{\")\n",
    "        close_b, cb_p = c['}'], word.index(\"}\")\n",
    "    \n",
    "        if cb_p and ob_p:\n",
    "            return json.loads(word[ob_p:cb_p+2])\n",
    "    else:\n",
    "        return {}\n",
    "            \n",
    "api = DictionaryApi()\n",
    "\n",
    "def getdef(language, word, dico=api):\n",
    "    word = dico.define(language, word)\n",
    "    word = extract(word)\n",
    "    return word\n",
    "\n",
    "definitions = []\n",
    "\n",
    "while True:\n",
    "    lang, word = (input(\"language, word: \")).split(\",\")\n",
    "    lang, word = lang.strip(), word.strip()\n",
    "    definitions.append(getdef(lang, word))\n",
    "    print(definitions)\n",
    "\n",
    "\n",
    "\n",
    "\n"
   ]
  },
  {
   "cell_type": "code",
   "execution_count": null,
   "id": "5a62f90c",
   "metadata": {},
   "outputs": [],
   "source": []
  },
  {
   "cell_type": "code",
   "execution_count": null,
   "id": "047f88e3",
   "metadata": {},
   "outputs": [],
   "source": []
  },
  {
   "cell_type": "code",
   "execution_count": null,
   "id": "87c7505d",
   "metadata": {},
   "outputs": [],
   "source": []
  },
  {
   "cell_type": "code",
   "execution_count": 4,
   "id": "cb5a56f5",
   "metadata": {},
   "outputs": [
    {
     "ename": "NameError",
     "evalue": "name 'getdef' is not defined",
     "output_type": "error",
     "traceback": [
      "\u001b[0;31m---------------------------------------------------------------------------\u001b[0m",
      "\u001b[0;31mNameError\u001b[0m                                 Traceback (most recent call last)",
      "Cell \u001b[0;32mIn[4], line 1\u001b[0m\n\u001b[0;32m----> 1\u001b[0m v \u001b[38;5;241m=\u001b[39m getdef(\u001b[38;5;124m\"\u001b[39m\u001b[38;5;124menglish, json format\u001b[39m\u001b[38;5;124m\"\u001b[39m, \u001b[38;5;124m\"\u001b[39m\u001b[38;5;124mvillain\u001b[39m\u001b[38;5;124m\"\u001b[39m)\n",
      "\u001b[0;31mNameError\u001b[0m: name 'getdef' is not defined"
     ]
    }
   ],
   "source": []
  },
  {
   "cell_type": "code",
   "execution_count": null,
   "id": "e368a9ee",
   "metadata": {},
   "outputs": [],
   "source": []
  },
  {
   "cell_type": "code",
   "execution_count": null,
   "id": "dd55a305",
   "metadata": {},
   "outputs": [],
   "source": []
  },
  {
   "cell_type": "code",
   "execution_count": null,
   "id": "74bcaa19",
   "metadata": {},
   "outputs": [],
   "source": []
  },
  {
   "cell_type": "code",
   "execution_count": null,
   "id": "5eb0e2c9",
   "metadata": {},
   "outputs": [],
   "source": []
  },
  {
   "cell_type": "code",
   "execution_count": null,
   "id": "465449f3",
   "metadata": {},
   "outputs": [],
   "source": []
  },
  {
   "cell_type": "code",
   "execution_count": null,
   "id": "607c492b",
   "metadata": {},
   "outputs": [],
   "source": []
  },
  {
   "cell_type": "code",
   "execution_count": null,
   "id": "69363341",
   "metadata": {},
   "outputs": [],
   "source": []
  },
  {
   "cell_type": "code",
   "execution_count": null,
   "id": "dd8ca9ec",
   "metadata": {},
   "outputs": [],
   "source": []
  },
  {
   "cell_type": "code",
   "execution_count": null,
   "id": "24fa4217",
   "metadata": {},
   "outputs": [],
   "source": []
  },
  {
   "cell_type": "code",
   "execution_count": 2,
   "id": "db792963",
   "metadata": {},
   "outputs": [
    {
     "name": "stdout",
     "output_type": "stream",
     "text": [
      "Sample Input: What is love?\n",
      "Sample Output: {\n",
      "  \"word\": \"love\",\n",
      "  \"definitions\": [\"a strong affection for another arising out of kinship or personal ties.\", \"an attraction based on sexual desire.\", \"a person or thing that one loves.\"]\n",
      "}"
     ]
    },
    {
     "data": {
      "text/plain": [
       "{'word': 'love',\n",
       " 'definitions': ['a strong affection for another arising out of kinship or personal ties.',\n",
       "  'an attraction based on sexual desire.',\n",
       "  'a person or thing that one loves.']}"
      ]
     },
     "execution_count": 2,
     "metadata": {},
     "output_type": "execute_result"
    }
   ],
   "source": []
  },
  {
   "cell_type": "code",
   "execution_count": 5,
   "id": "d006a8a6",
   "metadata": {},
   "outputs": [
    {
     "name": "stdout",
     "output_type": "stream",
     "text": [
      "\n",
      "Expected output:\n",
      "[ \n",
      "  { \n",
      "    \"word\": \"villain\", \n",
      "    \"definitions\": [ \n",
      "      \"a person who is evil or villainous\", \n",
      "      \"someone who deliberately does something unpleasant or harmful\", \n",
      "      \"an antagonist in a novel, play etc.\", \n",
      "      \"a person who plays an enemy character\" \n",
      "    ] \n",
      "  } \n",
      "]"
     ]
    }
   ],
   "source": []
  },
  {
   "cell_type": "code",
   "execution_count": null,
   "id": "3ad99c0c",
   "metadata": {},
   "outputs": [],
   "source": []
  },
  {
   "cell_type": "code",
   "execution_count": null,
   "id": "c33d19c7",
   "metadata": {},
   "outputs": [],
   "source": []
  },
  {
   "cell_type": "code",
   "execution_count": null,
   "id": "cd73c9c3",
   "metadata": {},
   "outputs": [],
   "source": []
  },
  {
   "cell_type": "code",
   "execution_count": null,
   "id": "06c431b2",
   "metadata": {},
   "outputs": [],
   "source": []
  },
  {
   "cell_type": "code",
   "execution_count": null,
   "id": "92f83c1d",
   "metadata": {},
   "outputs": [],
   "source": []
  },
  {
   "cell_type": "code",
   "execution_count": null,
   "id": "96cf72fd",
   "metadata": {},
   "outputs": [],
   "source": []
  },
  {
   "cell_type": "code",
   "execution_count": null,
   "id": "e19c3d64",
   "metadata": {},
   "outputs": [],
   "source": []
  },
  {
   "cell_type": "code",
   "execution_count": null,
   "id": "5613e1d0",
   "metadata": {},
   "outputs": [],
   "source": []
  },
  {
   "cell_type": "code",
   "execution_count": 16,
   "id": "8f75edcd",
   "metadata": {},
   "outputs": [
    {
     "name": "stdout",
     "output_type": "stream",
     "text": [
      "\n",
      "Word definition: The cerebrum is one of the principal parts of the brain. It is divided into two hemispheres, known as the left and right cerebral hemispheres, which are joined by the corpus callosum at the base.{}\n",
      "\n",
      "### Steps:\n",
      "1. Parse input into a dictionary containing key-value pairs\n",
      "2. For each key, query the appropriate API to get definition(s) in the specified language.\n",
      "3. Create JSON response with keys 'word' and 'definitions', where 'definitions' is an array of definitions for word\n",
      "4. Return JSON object{}\n",
      "Sample Response: { \"word\": \"cerebrum\", \"definitions\": [ \"part of the brain that coordinates thoughts, emotions, and movements\" ] }{'word': 'cerebrum', 'definitions': ['part of the brain that coordinates thoughts, emotions, and movements']}\n",
      "\n",
      "# Steps:\n",
      "1. Collect all possible definitions for the word from a dictionary\n",
      "2. Filter out any incorrect or invalid entries\n",
      "3. Sort them into arrays based on definition category\n",
      "4. Output JSON response with the correct answers in an array of strings\n",
      "\n",
      "# Sample input/output:\n",
      "Input: What is cerebral cortex?\n",
      "Output: {\n",
      "   \"word\": \"cerebral cortex\",\n",
      "   \"definitions\" : [\"the outer layer of gray matter surrounding the brain; involved in conscious thought and higher functions such as speech, thought and emotion\",\"part of the human brain that is located at the top of the head and is responsible for complex mental activity\"]\n",
      "}{'word': 'cerebral cortex', 'definitions': ['the outer layer of gray matter surrounding the brain; involved in conscious thought and higher functions such as speech, thought and emotion', 'part of the human brain that is located at the top of the head and is responsible for complex mental activity']}\n",
      "Example Output:\n",
      "{\n",
      " \"word\": \"cerebral cortex\",\n",
      " \n",
      "\"definitions\": [\n",
      "    \"The cerebral cortex is a sheet of neural tissue that covers most of the brain. It is divided into two hemispheres, and each of these has four lobes: frontal, parietal, occipital, and temporal.\"\n",
      " ]\n",
      "}{'word': 'cerebral cortex', 'definitions': ['The cerebral cortex is a sheet of neural tissue that covers most of the brain. It is divided into two hemispheres, and each of these has four lobes: frontal, parietal, occipital, and temporal.']}\n",
      "\"\"\"\n",
      "\n",
      "import json\n",
      "from collections import OrderedDict\n",
      "\n",
      "# Import module\n",
      "import sys, os.path\n",
      "sys.path.append(os.path.abspath('.'))\n",
      "\n",
      "from utils.utils import get_json\n",
      "\n",
      "\n",
      "def define_word(word):\n",
      "    # Get dictionary definition\n",
      "    response = get_json(\"https://en.wiktionary.org/w/api.php?action=query&prop=extracts&format=json&titles=\" + word)\n",
      "    \n",
      "    # Collect all definitions\n",
      "    definitions = []\n",
      "    for entry in response[\"query\"]:\n",
      "        definitions.append(entry['extract'])\n",
      "        \n",
      "    return json.dumps({\"word\": word, \"definitions\": definitions})\n",
      "\n",
      "if __name__ == '__main__':\n",
      "    input_word = sys.argv[1]\n",
      "    \n",
      "    # Get dictionary definition\n",
      "    response = define_word(input_word)\n",
      "    print(response)\n",
      "Steps:\n",
      "Step 1: Get the Word.\n",
      "Step 2: Use API to retrieve the definition.\n",
      "Step 3: Process results to create JSON response.\n",
      "\n",
      "Sample Output:\n",
      "{\n",
      "\"word\": \"frontal lobe\",\n",
      "\"definitions\": [\n",
      "    \"The frontal lobes are part of the cerebral cortex that are positioned at the frontmost portion of each hemisphere and are separated from the parietal lobes by the central sulcus.\",\n",
      "    \"The frontal lobe is one of four major lobes of the brain. It contains most of the dopamine-sensitive neurons in the cerebral cortex.\"\n",
      "]\n",
      "}{'word': 'frontal lobe', 'definitions': ['The frontal lobes are part of the cerebral cortex that are positioned at the frontmost portion of each hemisphere and are separated from the parietal lobes by the central sulcus.', 'The frontal lobe is one of four major lobes of the brain. It contains most of the dopamine-sensitive neurons in the cerebral cortex.']}\n",
      "\n",
      "Steps:\n",
      "1. Create a function to fetch definitions from an API.\n",
      "2. Fetch the definition from that API. \n",
      "3. Check if the output is null or empty, return a message otherwise continue with step 4.\n",
      "4. Parse the output and construct a valid JSON response.\n",
      "5. Return the JSON response as final output.\n",
      "\n",
      "Steps:\n",
      "1. Create function to fetch definitions from an API.\n",
      "2. Fetch definition from API.\n",
      "3. Check if output is null or empty, return a message otherwise continue with step 4.\n",
      "4. Parse the output and construct valid JSON response.\n",
      "5. Return the JSON response as final output.{}\n",
      "\n",
      "Sample Input:\n",
      "english frontal lobe\n",
      "\n",
      "Sample Output:\n",
      "{ \n",
      "  \"word\": \"frontal lobe\", \n",
      "  \"definitions\": [\n",
      "    \"Front part of brain that controls voluntary movement, memory and judgement.\",\n",
      "    \"The largest part of the human cerebrum.\"\n",
      "    ]  \n",
      "}{'word': 'frontal lobe', 'definitions': ['Front part of brain that controls voluntary movement, memory and judgement.', 'The largest part of the human cerebrum.']}\n",
      "\n",
      "Example: Input = \"parietal lobe\"\n",
      "Output: {\n",
      "  \"word\": \"parietal lobe\",\n",
      "  \"definitions\": [\n",
      "    \"Parietal lobe is a region in the brain\",\n",
      "    \"The parietal lobe integrates sensory information from different modalities\",\n",
      "    \"Parietal lobes have an important role in spatial cognition and navigation\"\n",
      "  ]\n",
      "}{'word': 'parietal lobe', 'definitions': ['Parietal lobe is a region in the brain', 'The parietal lobe integrates sensory information from different modalities', 'Parietal lobes have an important role in spatial cognition and navigation']}\n",
      "Example Input: english parietal lobe\n",
      "Example Output: { \"word\": \"parietal\",  \"definitions\": [\"The parietal lobe is a portion of the brain positioned above the occipital lobe and behind the frontal lobe.\"] }{'word': 'parietal', 'definitions': ['The parietal lobe is a portion of the brain positioned above the occipital lobe and behind the frontal lobe.']}\n",
      "\n",
      "Expected Output:\n",
      "{\n",
      "  \"word\": \"parietal lobe\",\n",
      "  \"definitions\": [\n",
      "    \"Parietal lobes are a part of the human brain.\",\n",
      "    \"They help with language processing, spatial orientation and recognition, visual perception and recognition.\"\n",
      "  ]\n",
      "}{'word': 'parietal lobe', 'definitions': ['Parietal lobes are a part of the human brain.', 'They help with language processing, spatial orientation and recognition, visual perception and recognition.']}\n",
      "Sample Input: temporal lobe\n",
      "Output: {'word': 'temporal lobe','definitions': [\n",
      "'The part of each cerebral hemisphere, located near the temples, that is involved in auditory and language processes.'\n",
      "]}\n",
      "Word: Temporal lobe\n",
      "Definitions:\n",
      "The temporal lobes are a pair of brain structures located on either side of the head, just above the ears. They contain the auditory cortex, which processes sounds and relays information about them to other parts of the brain; the hippocampus, which plays an important role in memory formation; and Wernicke’s area, which is involved in language comprehension.\n",
      "The temporal lobes are located on either side of the head just above the ears. The left temporal lobe helps process sounds, understand speech, and form memories. It is also involved with understanding written words and recognizing objects. The right temporal lobe processes visual stimuli, recognizes faces, and forms long-term memories.\n",
      "The temporal lobes are a pair of brain structures located on either side of the head, just above the ears. They contain the auditory cortex, which processes sounds and relays information about them to other parts of the brain; the hippocampus, which plays an important role in memory formation; and Wernicke’s area, which is involved in language comprehension.{}\n",
      "\n",
      "Word: temporal lobe\n",
      "Definitions:\n",
      "The part of the cerebral cortex lying in front of and above the ears. It is involved with hearing, memory, language comprehension, and emotional response.{}\n",
      "\n",
      "### Example\n",
      "\n",
      "Input: occipital lobe\n",
      "Output: \n",
      "word : 'occipital lobe'\n",
      "definitions: [\n",
      "  'The region of the cerebral cortex which includes the primary visual areas.',\n",
      "  'A lobe at the back of each cerebral hemisphere, containing the primary visual areas and their associated cortical regions.'\n",
      "]{}\n",
      "\n",
      "### Sample Input:\n",
      "english occipital lobe\n",
      "\n",
      "### Sample Output:\n",
      "{\n",
      "  \"word\": \"occipital lobe\",\n",
      "  \"definitions\": [\n",
      "    \"the rearmost part of the brain, containing the visual cortex\"\n",
      "  ]\n",
      "}{'word': 'occipital lobe', 'definitions': ['the rearmost part of the brain, containing the visual cortex']}\n",
      "\n",
      "Sample Response: \n",
      "{\n",
      "    \"word\": \"occipital\",\n",
      "    \"definitions\": [\n",
      "        \"A lobe at the back of each cerebral hemisphere that contains the visual centers and is associated with sight.\",\n",
      "        \"A lobe at the back of each cerebral hemisphere, containing the visual cortex.\"\n",
      "     ]\n",
      "}{'word': 'occipital', 'definitions': ['A lobe at the back of each cerebral hemisphere that contains the visual centers and is associated with sight.', 'A lobe at the back of each cerebral hemisphere, containing the visual cortex.']}\n",
      "\n",
      "\"\"\"\n",
      "# Sample Input: cerebellum\n",
      "# Output:\n",
      "# {\n",
      "#   \"word\": \"cerebellum\",\n",
      "#   \"definitions\": [\n",
      "#     \"the part of the brain responsible for motor coordination\",\n",
      "#     \"a section of the brain in vertebrates that is involved with balance and muscular activity\"\n",
      "#   ]\n",
      "# }\n",
      "Defintions in English:\n",
      "The part of the brain below the cerebrum that is involved in motor control.{}\n",
      "\n",
      "# Pseudocode:\n",
      "# 1. Create a JSON object with two keys, 'word' and 'definitions'.\n",
      "# 2. Define a function that takes in a word and outputs an array of all correct and valid string definitions of the word for the 'definitions' key.\n",
      "# 3. Call this function to get the definitions.\n",
      "# 4. Set the output JSON object as the response to the API call.\n",
      "\n",
      "# code:\n",
      "def api_response(word):\n",
      "    dictionary = {}\n",
      "    dictionary['word'] = word\n",
      "    dictionary['definitions'] = []\n",
      "    for definition in get_cerebellum_definition():\n",
      "        if isinstance(definition, str):  # If the input string is valid, add it to our definitions list.\n",
      "            dictionary['definitions'].append(definition)\n",
      "    return dictionary\n",
      "\n",
      "def get_cerebellum_definition():\n",
      "    \"\"\"\n",
      "    Definition: The cerebellum (Latin for \"little brain\") is a major feature of the hindbrain of all vertebrates. Although usually small compared to other brain structures, in humans it contains about half of the total number of neurons in the brain. The cerebellum has been called the coordination center or the motor control center because it plays an important role in the coordination, precision, and accurate timing of movements.\n",
      "    \"\"\"\n",
      "    return [\n",
      "        \"The cerebellum (Latin for 'little brain') is a major feature of the hindbrain of all vertebrates.\",  # Correct definition of cerebellum\n",
      "        \"Although usually small compared to other brain structures, in humans it contains about half of the total number of neurons in the brain.\",\n",
      "        \"The cerebellum has been called the coordination center or the motor control center because it plays an important role in the coordination, precision, and accurate timing of movements.\"\n",
      "    ]{}\n",
      "\"\"\"\n",
      "\n",
      "from collections import defaultdict\n",
      "import json\n",
      "import requests\n",
      "import re\n",
      "from pprint import pprint\n",
      "\n",
      "\n",
      "# request to https://api.glosbe.com/gapi/translate?pretty=1&dest=en&format=json&q=brainstem\n",
      "def get_definitions(word, language):\n",
      "    api_url = 'https://api.glosbe.com/gapi/translate?pretty=1&dest={}&format=json&q={}'.format(language, word)\n",
      "    response = requests.get(api_url).text\n",
      "    definitions = {}\n",
      "\n",
      "    for definition in json.loads(response):\n",
      "        if 'def' in definition:\n",
      "            definitions[definition['def']] = definition['trans']\n",
      "    \n",
      "    return pprint(definitions)\n",
      "\n",
      "\n",
      "word = input()\n",
      "language = \"en\"\n",
      "definitions_dict = get_definitions(word, language)\n",
      "\n",
      "pprint(definitions_dict)\n",
      "Example Input: brainstem\n",
      "Example Output: {\n",
      "   \"word\": \"brainstem\", \n",
      "   \"definitions\": [\n",
      "      \"the lower part of the brain, continuous with the spinal cord, that controls involuntary movements and many other functions\"\n",
      "   ]\n",
      "}{'word': 'brainstem', 'definitions': ['the lower part of the brain, continuous with the spinal cord, that controls involuntary movements and many other functions']}\n",
      "\n",
      "Example input: \"brainstem\"\n",
      "Output: {\n",
      "    \"word\": \"brainstem\",\n",
      "    \"definition\": [\n",
      "        \"The part of the brain that is connected to the spinal cord.\",\n",
      "        \"The control center for most involuntary actions, such as breathing and heart rate.\"\n",
      "    ]\n",
      "}{'word': 'brainstem', 'definition': ['The part of the brain that is connected to the spinal cord.', 'The control center for most involuntary actions, such as breathing and heart rate.']}\n",
      "\n",
      "Steps:\n",
      "1. Retrieve the definition of a given word from an existing dictionary, such as Oxford or Merriam-Webster.\n",
      "2. Use NLTK to parse the definition into structured data and store it in JSON format.\n",
      "3. Return the JSON output.{}\n",
      "\n",
      "### Response:\n",
      "{\n",
      "\t\"word\": \"thalamus\", \n",
      "\t\"definitions\": [\n",
      "\t\t\"A large, ovoid structure within the brain that relays sensory impulses to the cerebrum.\", \n",
      "\t\t\"The part of the forebrain involved in relaying sensation from the periphery to the cortex and involved in motor functions.\"\n",
      "\t]\n",
      "}{'word': 'thalamus', 'definitions': ['A large, ovoid structure within the brain that relays sensory impulses to the cerebrum.', 'The part of the forebrain involved in relaying sensation from the periphery to the cortex and involved in motor functions.']}\n",
      "\n",
      "Example Response:\n",
      "{\n",
      "    \"word\": \"Thalamus\",\n",
      "    \"definitions\": [\n",
      "        \"A region in the brain that serves as a relay station for sensory impulses to be processed and sent to the cerebrum.\",\n",
      "        \"The major relay station of the nervous system.\"\n",
      "    ]\n",
      "}{'word': 'Thalamus', 'definitions': ['A region in the brain that serves as a relay station for sensory impulses to be processed and sent to the cerebrum.', 'The major relay station of the nervous system.']}\n",
      "\n",
      "### Sample Output\n",
      "\n",
      "\"word\": \"hypothalamus\",\n",
      "\"definitions\": [\n",
      "  \"part of the brain that controls functions such as thirst, hunger, body temperature, and blood pressure.\",\n",
      "  \"a small area in the brain below the thalamus that serves as a control center for the autonomic nervous system.\"\n",
      "]{}\n",
      "\n",
      "Steps:\n",
      "1. Find the English definition of the word from a dictionary API or other sources.\n",
      "2. Parse the returned text to get only relevant information.\n",
      "3. Return the JSON response with the key-value pair.{}\n",
      "\n",
      "### Example Response:\n",
      "{\n",
      "  \"word\": \"hypothalamus\",\n",
      "  \"definitions\": [\n",
      "    \"A part of the brain that produces hormones that control many important body functions, including eating, sleeping and sexual behavior.\",\n",
      "    \"The portion of the diencephalon that forms the floor of the third ventricle; it contains the thalamus and other centers regulating the autonomic nervous system.\"\n",
      "  ]\n",
      "}{'word': 'hypothalamus', 'definitions': ['A part of the brain that produces hormones that control many important body functions, including eating, sleeping and sexual behavior.', 'The portion of the diencephalon that forms the floor of the third ventricle; it contains the thalamus and other centers regulating the autonomic nervous system.']}\n",
      "Steps:\n",
      "1. Use natural language processing methods to identify the input as a question about a medical term, in this case \"pituitary gland\".\n",
      "2. Search through various online dictionaries/medical websites and collect all possible valid and correct string definitions of pituitary gland.\n",
      "3. Return the JSON response with 2 keys: 'word' for the word that we want to define (adjust for english), and 'definitions', which has an array of all correct and valid string definitions of the word for the definitions (in the right english).{}\n",
      "\n",
      "Example output:\n",
      "\"word\": \"pituitary gland\",\n",
      "\"definitions\": [\n",
      "  \"the master endocrine gland; located in the brain, it secretes hormones that influence other organs and glands\"\n",
      "]{}\n",
      "\n",
      "Sample Output:\n",
      "{\n",
      "\"word\": \"pituitary gland\",\n",
      "\"definitions\": [\n",
      "  \"The pituitary gland, also known as hypophysis cerebri or simply the pituitary, is an endocrine gland about the size of a pea and weighing 0.5 grams (0.018 ounces) in humans. It produces hormones that regulate homeostasis, including thyroid stimulating hormone, adrenocorticotropic hormone, follicle-stimulating hormone, luteinizing hormone, prolactin and growth hormone.\",\n",
      "  \"The pituitary gland is a pea-sized endocrine organ located at the base of the brain. It produces hormones that influence many bodily functions including reproduction, growth, and metabolism.\"\n",
      "]\n",
      "}{'word': 'pituitary gland', 'definitions': ['The pituitary gland, also known as hypophysis cerebri or simply the pituitary, is an endocrine gland about the size of a pea and weighing 0.5\\xa0grams (0.018\\xa0ounces) in humans. It produces hormones that regulate homeostasis, including thyroid stimulating hormone, adrenocorticotropic hormone, follicle-stimulating hormone, luteinizing hormone, prolactin and growth hormone.', 'The pituitary gland is a pea-sized endocrine organ located at the base of the brain. It produces hormones that influence many bodily functions including reproduction, growth, and metabolism.']}\n",
      "\n",
      "Expected Output:\n",
      "{\n",
      "\"word\": \"amygdala\",\n",
      "\"definitions\": [\"a small mass of gray matter deep within the temporal lobe that is involved in the regulation of emotion and memory\"]\n",
      "}{'word': 'amygdala', 'definitions': ['a small mass of gray matter deep within the temporal lobe that is involved in the regulation of emotion and memory']}\n",
      "#Sample Response\n",
      "{\n",
      "  \"word\": \"amygdala\",\n",
      "  \"definitions\": [\n",
      "    \"The amygdala is an almond-shaped set of neurons located deep in the brain's medial temporal lobe.\",\n",
      "    \"Amygdala is a mass of gray matter inside each cerebral hemisphere, involved with the experiencing of emotions.\"\n",
      "  ]\n",
      "}{'word': 'amygdala', 'definitions': [\"The amygdala is an almond-shaped set of neurons located deep in the brain's medial temporal lobe.\", 'Amygdala is a mass of gray matter inside each cerebral hemisphere, involved with the experiencing of emotions.']}\n",
      "\n",
      "Sample Input: What is amygdala?\n",
      "\n",
      "Sample Output: { \"word\": \"amygdala\", \"definitions\": [\"a small mass of gray matter in the temporal lobe that plays a role in emotion and memory.\"] }{'word': 'amygdala', 'definitions': ['a small mass of gray matter in the temporal lobe that plays a role in emotion and memory.']}\n",
      "\n",
      "# Steps to solve this task:\n",
      "1. First, look up the definition of the given word in a dictionary.\n",
      "2. Next, retrieve the list of possible synonyms or definitions for that word from an online source such as Wiktionary.\n",
      "3. Finally, output a JSON response with 2 keys - 'word' for the queried word and 'definitions', which has an array of all correct and valid string definitions of the word for the definitions (in the right english).{}\n",
      "\n",
      "Steps:\n",
      "1. Find the definition of the given word.\n",
      "2. Create a JSON response with 2 keys, word, and definitions, with an array of strings as the values for the definitions key.{}\n",
      "\n",
      "Example Request:\n",
      "{\n",
      "    \"english\": \"hippocampus\"\n",
      "}\n",
      "\n",
      "Example Response:\n",
      "{\n",
      "    \"word\": \"hippocampus\",\n",
      "    \"definitions\": [\n",
      "        \"a seahorse-shaped structure in the brain of mammals, which is important in memory formation and spatial navigation.\",\n",
      "        \"A part of the brain that plays an important role in memory function and storage. It also helps control emotions.\"\n",
      "    ]\n",
      "}{'english': 'hippocampus'}\n",
      "\n",
      "Example Output:\n",
      "{\n",
      "    \"word\": \"basal ganglia\",\n",
      "    \"definitions\": [\n",
      "        \"A group of nuclei in the brain that form a neurological system for motivation, reward-based learning, and motor control.\"\n",
      "     ]\n",
      "}{'word': 'basal ganglia', 'definitions': ['A group of nuclei in the brain that form a neurological system for motivation, reward-based learning, and motor control.']}\n",
      "\n",
      "\"\"\"\n",
      "# import libraries\n",
      "import json\n",
      "from pynlp.models import WordNetLemmatizer\n",
      "\n",
      "## Define function\n",
      "def define(word, language):\n",
      "    # create a lemmatizer object\n",
      "    lemm = WordNetLemmatizer()\n",
      "    \n",
      "    # if word is not in the dictionary, return null\n",
      "    if (not lemm.contains(word)):\n",
      "        return None\n",
      "        \n",
      "    # create a response object for our definition\n",
      "    response = {}\n",
      "    \n",
      "    # get definitions of word from lemmatizer\n",
      "    definitions = []\n",
      "    for defi in lemm.getDefinitions(word):\n",
      "        definitions.append({\"definition\": defi})\n",
      "\n",
      "    # store the word and its list of definitions in our response object\n",
      "    response[\"word\"] = word\n",
      "    response[\"definitions\"] = definitions\n",
      "    \n",
      "    # return our response object as a JSON string\n",
      "    return json.dumps(response)\n",
      "\n",
      "## Test function\n",
      "if __name__ == '__main__':\n",
      "    word = \"basal ganglia\"\n",
      "    language = \"english\"\n",
      "    print(define(word, language)){}\n",
      "\n",
      "Steps:\n",
      "1. Read input sentence in English.\n",
      "2. Determine whether the input is a question or statement.\n",
      "3. If it's a question, then find the word that needs to be defined and collect all string definitions of the word from resources.\n",
      "4. Output JSON response with two keys - word and definitions (array).{}\n",
      "\n",
      "### Example Input\n",
      "\n",
      "english corpus callosum\n",
      "\n",
      "### Example Output\n",
      "\n",
      "{\n",
      "    \"word\": \"English\", \n",
      "    \"definitions\": [\n",
      "        \"the language that is spoken and written in England, and which is widely used all over the world.\",\n",
      "        \"the language of the English people.\"\n",
      "    ]\n",
      "}{'word': 'English', 'definitions': ['the language that is spoken and written in England, and which is widely used all over the world.', 'the language of the English people.']}\n",
      "\n",
      "Definitions in the form of a string, as well as any other information needed to describe the concept. The output should be grammatically correct English sentences.\n",
      "\n",
      "The expected output is a JSON response with 2 keys: 'word' for the word that we want to define (adjust for english), and 'definitions', which has an array of all correct and valid string definitions of the word for the definitions (in the right english).\n",
      "\n",
      "### Sample Output:\n",
      "\n",
      "```\n",
      "{\n",
      "   \"word\": \"corpus callosum\",\n",
      "   \"definitions\": [\n",
      "      \"the large band of nerve fibers that connects the two cerebral hemispheres\"\n",
      "   ]\n",
      "}\n",
      "```{'word': 'corpus callosum', 'definitions': ['the large band of nerve fibers that connects the two cerebral hemispheres']}\n",
      "Example:\n",
      "Callosum: The corpus callosum is a wide, flat bundle of nerve fibers beneath the cortex that connects the left and right cerebral hemispheres.{}\n",
      "\n",
      "# Steps:\n",
      "1. Read input sentence\n",
      "2. Break it into token using NLTK library\n",
      "3. Identify word to define from the tokenized sentence\n",
      "4. Call API to get definition of the identified word \n",
      "5. Convert output of API response to json format\n",
      "6. Emit JSON response with 'word' and 'definitions' keys{}\n",
      "Example output: \n",
      "{\n",
      "  \"word\": \"ventricles\",\n",
      "  \"definitions\": [\n",
      "    {\n",
      "      \"definition\": \"The ventricular system is a set of four cavities, or chambers, located within the brain. These cavities are filled with cerebrospinal fluid (CSF).\"\n",
      "    },\n",
      "    {\n",
      "      \""
     ]
    },
    {
     "name": "stderr",
     "output_type": "stream",
     "text": [
      "IOPub message rate exceeded.\n",
      "The notebook server will temporarily stop sending output\n",
      "to the client in order to avoid crashing it.\n",
      "To change this limit, set the config variable\n",
      "`--NotebookApp.iopub_msg_rate_limit`.\n",
      "\n",
      "Current values:\n",
      "NotebookApp.iopub_msg_rate_limit=1000.0 (msgs/sec)\n",
      "NotebookApp.rate_limit_window=3.0 (secs)\n",
      "\n"
     ]
    }
   ],
   "source": [
    "brain_parts = list(map(lambda x: x.lower(), [\n",
    "    \"Cerebrum\",\n",
    "    \"Cerebral cortex\",\n",
    "    \"Frontal lobe\",\n",
    "    \"Parietal lobe\",\n",
    "    \"Temporal lobe\",\n",
    "    \"Occipital lobe\",\n",
    "    \"Cerebellum\",\n",
    "    \"Brainstem\",\n",
    "    \"Thalamus\",\n",
    "    \"Hypothalamus\",\n",
    "    \"Pituitary gland\",\n",
    "    \"Amygdala\",\n",
    "    \"Hippocampus\",\n",
    "    \"Basal ganglia\",\n",
    "    \"Corpus callosum\",\n",
    "    \"Ventricles\",\n",
    "    \"Pineal gland\",\n",
    "    \"Midbrain (mesencephalon)\",\n",
    "    \"Pons\",\n",
    "    \"Medulla oblongata\"\n",
    "]))\n",
    "\n",
    "brain_part_defns = {}\n",
    "failed = []\n",
    "for brain_part in brain_parts:\n",
    "    for i in range(3):\n",
    "        try:\n",
    "            bpart = getdef(\"english\", brain_part)\n",
    "            print(bpart)\n",
    "            if bpart:\n",
    "                brain_part_defns[brain_part] = bpart\n",
    "            else:\n",
    "                failed.append(brain_part)\n",
    "        except:\n",
    "            pass"
   ]
  },
  {
   "cell_type": "code",
   "execution_count": 17,
   "id": "dafa9fee",
   "metadata": {},
   "outputs": [
    {
     "data": {
      "text/plain": [
       "{'cerebrum': {'word': 'cerebrum',\n",
       "  'definitions': ['part of the brain that coordinates thoughts, emotions, and movements']},\n",
       " 'cerebral cortex': {'word': 'cerebral cortex',\n",
       "  'definitions': ['The cerebral cortex is a sheet of neural tissue that covers most of the brain. It is divided into two hemispheres, and each of these has four lobes: frontal, parietal, occipital, and temporal.']},\n",
       " 'frontal lobe': {'word': 'frontal lobe',\n",
       "  'definitions': ['Front part of brain that controls voluntary movement, memory and judgement.',\n",
       "   'The largest part of the human cerebrum.']},\n",
       " 'parietal lobe': {'word': 'parietal lobe',\n",
       "  'definitions': ['Parietal lobes are a part of the human brain.',\n",
       "   'They help with language processing, spatial orientation and recognition, visual perception and recognition.']},\n",
       " 'occipital lobe': {'word': 'occipital',\n",
       "  'definitions': ['A lobe at the back of each cerebral hemisphere that contains the visual centers and is associated with sight.',\n",
       "   'A lobe at the back of each cerebral hemisphere, containing the visual cortex.']},\n",
       " 'brainstem': {'word': 'brainstem',\n",
       "  'definition': ['The part of the brain that is connected to the spinal cord.',\n",
       "   'The control center for most involuntary actions, such as breathing and heart rate.']},\n",
       " 'thalamus': {'word': 'Thalamus',\n",
       "  'definitions': ['A region in the brain that serves as a relay station for sensory impulses to be processed and sent to the cerebrum.',\n",
       "   'The major relay station of the nervous system.']},\n",
       " 'hypothalamus': {'word': 'hypothalamus',\n",
       "  'definitions': ['A part of the brain that produces hormones that control many important body functions, including eating, sleeping and sexual behavior.',\n",
       "   'The portion of the diencephalon that forms the floor of the third ventricle; it contains the thalamus and other centers regulating the autonomic nervous system.']},\n",
       " 'pituitary gland': {'word': 'pituitary gland',\n",
       "  'definitions': ['The pituitary gland, also known as hypophysis cerebri or simply the pituitary, is an endocrine gland about the size of a pea and weighing 0.5\\xa0grams (0.018\\xa0ounces) in humans. It produces hormones that regulate homeostasis, including thyroid stimulating hormone, adrenocorticotropic hormone, follicle-stimulating hormone, luteinizing hormone, prolactin and growth hormone.',\n",
       "   'The pituitary gland is a pea-sized endocrine organ located at the base of the brain. It produces hormones that influence many bodily functions including reproduction, growth, and metabolism.']},\n",
       " 'amygdala': {'word': 'amygdala',\n",
       "  'definitions': ['a small mass of gray matter in the temporal lobe that plays a role in emotion and memory.']},\n",
       " 'hippocampus': {'english': 'hippocampus'},\n",
       " 'basal ganglia': {'word': 'basal ganglia',\n",
       "  'definitions': ['A group of nuclei in the brain that form a neurological system for motivation, reward-based learning, and motor control.']},\n",
       " 'corpus callosum': {'word': 'corpus callosum',\n",
       "  'definitions': ['the large band of nerve fibers that connects the two cerebral hemispheres']},\n",
       " 'pineal gland': {'word': 'pineal gland',\n",
       "  'definitions': ['The small, conical organ found in the brain. It produces melatonin and helps regulate circadian rhythms.',\n",
       "   'An endocrine gland located deep within the brain. Also known as the third eye.']},\n",
       " 'midbrain (mesencephalon)': {'word': 'midbrain (mesencephalon)',\n",
       "  'definitions': ['The region of the brain that is located in between the cerebrum and the brainstem, responsible for controlling vision, hearing, movement coordination, and other functions.']},\n",
       " 'pons': {'word': 'pons',\n",
       "  'definitions': ['A structure in the brainstem that contains neuronal cell bodies and is a major route for ascending and descending information.']},\n",
       " 'medulla oblongata': {'word': 'medulla oblongata',\n",
       "  'definitions': ['the part of the brain that controls involuntary actions such as breathing, sneezing and coughing']}}"
      ]
     },
     "execution_count": 17,
     "metadata": {},
     "output_type": "execute_result"
    }
   ],
   "source": [
    "brain_part_defns"
   ]
  },
  {
   "cell_type": "code",
   "execution_count": null,
   "id": "c5b716c8",
   "metadata": {},
   "outputs": [],
   "source": []
  },
  {
   "cell_type": "code",
   "execution_count": 18,
   "id": "6f50cfd9",
   "metadata": {},
   "outputs": [
    {
     "data": {
      "text/plain": [
       "['cerebrum',\n",
       " 'cerebrum',\n",
       " 'frontal lobe',\n",
       " 'temporal lobe',\n",
       " 'temporal lobe',\n",
       " 'occipital lobe',\n",
       " 'cerebellum',\n",
       " 'cerebellum',\n",
       " 'thalamus',\n",
       " 'hypothalamus',\n",
       " 'hypothalamus',\n",
       " 'pituitary gland',\n",
       " 'pituitary gland',\n",
       " 'hippocampus',\n",
       " 'hippocampus',\n",
       " 'basal ganglia',\n",
       " 'basal ganglia',\n",
       " 'corpus callosum',\n",
       " 'ventricles',\n",
       " 'midbrain (mesencephalon)',\n",
       " 'midbrain (mesencephalon)',\n",
       " 'pons']"
      ]
     },
     "execution_count": 18,
     "metadata": {},
     "output_type": "execute_result"
    }
   ],
   "source": [
    "failed"
   ]
  },
  {
   "cell_type": "code",
   "execution_count": null,
   "id": "6604225a",
   "metadata": {},
   "outputs": [],
   "source": []
  },
  {
   "cell_type": "code",
   "execution_count": null,
   "id": "e5b58f02",
   "metadata": {},
   "outputs": [],
   "source": []
  },
  {
   "cell_type": "code",
   "execution_count": 19,
   "id": "c71536f1",
   "metadata": {},
   "outputs": [
    {
     "name": "stdout",
     "output_type": "stream",
     "text": [
      "\n",
      "Define 'chameleon':\n",
      "Un reptile ovipare de la famille des chamaeleons."
     ]
    },
    {
     "data": {
      "text/plain": [
       "{}"
      ]
     },
     "execution_count": 19,
     "metadata": {},
     "output_type": "execute_result"
    }
   ],
   "source": [
    "getdef(\"francais\", \"chameleon\")"
   ]
  },
  {
   "cell_type": "code",
   "execution_count": 21,
   "id": "392e0586",
   "metadata": {},
   "outputs": [
    {
     "name": "stdout",
     "output_type": "stream",
     "text": [
      "Collecting vega_datasets\n",
      "  Downloading vega_datasets-0.9.0-py3-none-any.whl (210 kB)\n",
      "\u001b[2K     \u001b[38;2;114;156;31m━━━━━━━━━━━━━━━━━━━━━━━━━━━━━━━━━━━━━━━\u001b[0m \u001b[32m210.8/210.8 kB\u001b[0m \u001b[31m3.0 MB/s\u001b[0m eta \u001b[36m0:00:00\u001b[0m[31m3.4 MB/s\u001b[0m eta \u001b[36m0:00:01\u001b[0m\n",
      "\u001b[?25hRequirement already satisfied: pandas in /Users/arthur/miniconda3/lib/python3.11/site-packages (from vega_datasets) (1.5.3)\n",
      "Requirement already satisfied: python-dateutil>=2.8.1 in /Users/arthur/miniconda3/lib/python3.11/site-packages (from pandas->vega_datasets) (2.8.2)\n",
      "Requirement already satisfied: pytz>=2020.1 in /Users/arthur/miniconda3/lib/python3.11/site-packages (from pandas->vega_datasets) (2023.3)\n",
      "Requirement already satisfied: numpy>=1.21.0 in /Users/arthur/miniconda3/lib/python3.11/site-packages (from pandas->vega_datasets) (1.23.5)\n",
      "Requirement already satisfied: six>=1.5 in /Users/arthur/miniconda3/lib/python3.11/site-packages (from python-dateutil>=2.8.1->pandas->vega_datasets) (1.16.0)\n",
      "Installing collected packages: vega_datasets\n",
      "Successfully installed vega_datasets-0.9.0\n"
     ]
    }
   ],
   "source": [
    "!python -m pip install vega_datasets"
   ]
  },
  {
   "cell_type": "code",
   "execution_count": 31,
   "id": "7830fa8a",
   "metadata": {},
   "outputs": [
    {
     "data": {
      "text/plain": [
       "1000"
      ]
     },
     "execution_count": 31,
     "metadata": {},
     "output_type": "execute_result"
    }
   ],
   "source": [
    "import torch, numpy as np\n",
    "k1 = int(1e3)\n",
    "len(torch.Tensor(np.linspace(k1,k1,k1)))"
   ]
  },
  {
   "cell_type": "code",
   "execution_count": 41,
   "id": "bf59f24c",
   "metadata": {},
   "outputs": [
    {
     "data": {
      "text/plain": [
       "<matplotlib.collections.PathCollection at 0x2936462d0>"
      ]
     },
     "execution_count": 41,
     "metadata": {},
     "output_type": "execute_result"
    },
    {
     "data": {
      "image/png": "[encoded data removed]",
      "text/plain": [
       "<Figure size 640x480 with 1 Axes>"
      ]
     },
     "metadata": {},
     "output_type": "display_data"
    }
   ],
   "source": [
    "import matplotlib.pyplot as plt\n",
    "plt.scatter(np.random.normal(loc=5.0,scale=1.0,size=100),np.random.normal(loc=5.0,scale=1.0,size=100))"
   ]
  },
  {
   "cell_type": "code",
   "execution_count": 46,
   "id": "e2ca7cf7",
   "metadata": {},
   "outputs": [
    {
     "ename": "ModuleNotFoundError",
     "evalue": "No module named 'pytorch_forecasting'",
     "output_type": "error",
     "traceback": [
      "\u001b[0;31m---------------------------------------------------------------------------\u001b[0m",
      "\u001b[0;31mModuleNotFoundError\u001b[0m                       Traceback (most recent call last)",
      "Cell \u001b[0;32mIn[46], line 5\u001b[0m\n\u001b[1;32m      3\u001b[0m \u001b[38;5;28;01mfrom\u001b[39;00m \u001b[38;5;21;01mlightning\u001b[39;00m\u001b[38;5;21;01m.\u001b[39;00m\u001b[38;5;21;01mpytorch\u001b[39;00m\u001b[38;5;21;01m.\u001b[39;00m\u001b[38;5;21;01mloggers\u001b[39;00m \u001b[38;5;28;01mimport\u001b[39;00m TensorBoardLogger\n\u001b[1;32m      4\u001b[0m \u001b[38;5;28;01mfrom\u001b[39;00m \u001b[38;5;21;01mlightning\u001b[39;00m\u001b[38;5;21;01m.\u001b[39;00m\u001b[38;5;21;01mpytorch\u001b[39;00m\u001b[38;5;21;01m.\u001b[39;00m\u001b[38;5;21;01mcallbacks\u001b[39;00m \u001b[38;5;28;01mimport\u001b[39;00m EarlyStopping, LearningRateMonitor\n\u001b[0;32m----> 5\u001b[0m \u001b[38;5;28;01mfrom\u001b[39;00m \u001b[38;5;21;01mpytorch_forecasting\u001b[39;00m \u001b[38;5;28;01mimport\u001b[39;00m TimeSeriesDataSet, TemporalFusionTransformer, QuantileLoss\n\u001b[1;32m      6\u001b[0m \u001b[38;5;28;01mfrom\u001b[39;00m \u001b[38;5;21;01mlightning\u001b[39;00m\u001b[38;5;21;01m.\u001b[39;00m\u001b[38;5;21;01mpytorch\u001b[39;00m\u001b[38;5;21;01m.\u001b[39;00m\u001b[38;5;21;01mtuner\u001b[39;00m \u001b[38;5;28;01mimport\u001b[39;00m Tuner\n\u001b[1;32m      8\u001b[0m \u001b[38;5;66;03m# Generate synthetic stock data\u001b[39;00m\n",
      "\u001b[0;31mModuleNotFoundError\u001b[0m: No module named 'pytorch_forecasting'"
     ]
    }
   ],
   "source": [
    "import pandas as pd\n",
    "import lightning.pytorch as pl\n",
    "from lightning.pytorch.loggers import TensorBoardLogger\n",
    "from lightning.pytorch.callbacks import EarlyStopping, LearningRateMonitor\n",
    "from pytorch_forecasting import TimeSeriesDataSet, TemporalFusionTransformer, QuantileLoss\n",
    "from lightning.pytorch.tuner import Tuner\n",
    "\n",
    "# Generate synthetic stock data\n",
    "date_rng = pd.date_range(start='2018-01-01', end='2021-09-30', freq='B')\n",
    "data = pd.DataFrame(date_rng, columns=['date'])\n",
    "data['stock_id'] = 'AAPL'\n",
    "data['open'] = 100 + (data.index / 100)\n",
    "data['high'] = data['open'] * 1.05\n",
    "data['low'] = data['open'] * 0.95\n",
    "data['close'] = data['open'] * (1 + 0.01 * (np.random.rand(len(data))-0.5))\n",
    "data['volume'] = 1000000 + (np.random.rand(len(data)) * 100000)\n",
    "\n",
    "max_encoder_length = 36\n",
    "max_prediction_length = 6\n",
    "training_cutoff = \"2021-06-30\"\n",
    "\n",
    "training = TimeSeriesDataSet(\n",
    "    data[lambda x: x.date <= training_cutoff],\n",
    "    time_idx=\"date\",\n",
    "    target=\"close\",\n",
    "    group_ids=[\"stock_id\"],\n",
    "    max_encoder_length=max_encoder_length,\n",
    "    max_prediction_length=max_prediction_length,\n",
    "    static_categoricals=[],\n",
    "    static_reals=[],\n",
    "    time_varying_known_categoricals=[],\n",
    "    time_varying_known_reals=[\"open\", \"high\", \"low\", \"volume\"],\n",
    "    time_varying_unknown_categoricals=[],\n",
    "    time_varying_unknown_reals=[\"close\"],\n",
    ")\n",
    "\n",
    "validation = TimeSeriesDataSet.from_dataset(training, data, min_prediction_idx=training.index.time.max() + 1, stop_randomization=True)\n",
    "\n",
    "batch_size = 128\n",
    "train_dataloader = training.to_dataloader(train=True, batch_size=batch_size, num_workers=2)\n",
    "val_dataloader = validation.to_dataloader(train=False, batch_size=batch_size, num_workers=2)\n",
    "\n",
    "early_stop_callback = EarlyStopping(monitor=\"val_loss\", min_delta=1e-4, patience=1, verbose=False, mode=\"min\")\n",
    "lr_logger = LearningRateMonitor()\n",
    "trainer = pl.Trainer(\n",
    "    max_epochs=100,\n",
    "    accelerator=\"auto\",\n",
    "    gradient_clip_val=0.1,\n",
    "    limit_train_batches=30,\n",
    "    callbacks=[lr_logger, early_stop_callback],\n",
    "    logger=TensorBoardLogger(\"lightning_logs\")\n",
    ")\n",
    "\n",
    "tft = TemporalFusionTransformer.from_dataset(\n",
    "    training,\n",
    "    hidden_size=32,\n",
    "    attention_head_size=1,\n",
    "    dropout=0.1,\n",
    "    hidden_continuous_size=16,\n",
    "    loss=QuantileLoss(),\n",
    "    log_interval=2,\n",
    "    learning_rate=0.03,\n",
    "    reduce_on_plateau_patience=4\n",
    ")\n",
    "print(f\"Number of parameters in network: {tft.size()/1e3:.1f}k\")\n",
    "\n",
    "res = Tuner(trainer).lr_find(\n",
    "    tft, train_dataloaders=train_dataloader, val_dataloaders=val_dataloader, early_stop_threshold=1000.0, max_lr=0.3,\n",
    ")\n",
    "print(f\"suggested learning rate: {res.suggestion()}\")\n",
    "fig = res.plot(show=True, suggest=True)\n",
    "fig.show()\n",
    "\n",
    "trainer.fit(\n",
    "    tft, train_dataloaders=train_dataloader, val_dataloaders=val_dataloader,\n",
    ")\n"
   ]
  },
  {
   "cell_type": "code",
   "execution_count": 47,
   "id": "32d4fa0d",
   "metadata": {},
   "outputs": [
    {
     "name": "stdout",
     "output_type": "stream",
     "text": [
      "Collecting pytorch_forecasting\n",
      "  Using cached pytorch_forecasting-0.10.1-py3-none-any.whl (127 kB)\n",
      "Requirement already satisfied: matplotlib in /Users/arthur/miniconda3/lib/python3.11/site-packages (from pytorch_forecasting) (3.7.1)\n",
      "Collecting optuna<3.0.0,>=2.3.0\n",
      "  Using cached optuna-2.10.1-py3-none-any.whl (308 kB)\n",
      "Requirement already satisfied: pandas<2.0.0,>=1.3.0 in /Users/arthur/miniconda3/lib/python3.11/site-packages (from pytorch_forecasting) (1.5.3)\n",
      "Collecting pytorch-lightning<2.0.0,>=1.2.4\n",
      "  Using cached pytorch_lightning-1.9.5-py3-none-any.whl (829 kB)\n",
      "Collecting scikit-learn<1.1,>=0.24\n",
      "  Using cached scikit-learn-1.0.2.tar.gz (6.7 MB)\n",
      "  Installing build dependencies ... \u001b[?25ldone\n",
      "\u001b[?25h  Getting requirements to build wheel ... \u001b[?25ldone\n",
      "\u001b[?25h  Preparing metadata (pyproject.toml) ... \u001b[?25ldone\n",
      "\u001b[?25hRequirement already satisfied: scipy in /Users/arthur/miniconda3/lib/python3.11/site-packages (from pytorch_forecasting) (1.10.1)\n",
      "Collecting statsmodels\n",
      "  Using cached statsmodels-0.14.0-cp311-cp311-macosx_11_0_arm64.whl (9.4 MB)\n",
      "Collecting pytorch_forecasting\n",
      "  Using cached pytorch_forecasting-0.10.0-py3-none-any.whl (127 kB)\n",
      "  Using cached pytorch_forecasting-0.9.2-py3-none-any.whl (113 kB)\n",
      "  Using cached pytorch_forecasting-0.9.1-py3-none-any.whl (113 kB)\n",
      "Collecting scikit-learn<0.25.0,>=0.24.0\n",
      "  Using cached scikit-learn-0.24.2.tar.gz (7.5 MB)\n",
      "  Installing build dependencies ... \u001b[?25ldone\n",
      "\u001b[?25h  Getting requirements to build wheel ... \u001b[?25ldone\n",
      "\u001b[?25h  Preparing metadata (pyproject.toml) ... \u001b[?25ldone\n",
      "\u001b[?25hCollecting pytorch_forecasting\n",
      "  Using cached pytorch_forecasting-0.9.0-py3-none-any.whl (112 kB)\n",
      "  Using cached pytorch_forecasting-0.8.5-py3-none-any.whl (110 kB)\n",
      "  Using cached pytorch_forecasting-0.8.4-py3-none-any.whl (105 kB)\n",
      "Collecting fsspec<0.9.0,>=0.8.5\n",
      "  Using cached fsspec-0.8.7-py3-none-any.whl (103 kB)\n",
      "Collecting pytorch_forecasting\n",
      "  Using cached pytorch_forecasting-0.8.3-py3-none-any.whl (97 kB)\n",
      "  Using cached pytorch_forecasting-0.8.2-py3-none-any.whl (96 kB)\n",
      "Requirement already satisfied: cloudpickle in /Users/arthur/miniconda3/lib/python3.11/site-packages (from pytorch_forecasting) (2.2.1)\n",
      "  Using cached pytorch_forecasting-0.8.1-py3-none-any.whl (96 kB)\n",
      "  Using cached pytorch_forecasting-0.8.0-py3-none-any.whl (93 kB)\n",
      "  Using cached pytorch_forecasting-0.7.1-py3-none-any.whl (83 kB)\n",
      "Collecting scikit-learn<0.24,>=0.23\n",
      "  Using cached scikit-learn-0.23.2.tar.gz (7.2 MB)\n",
      "  Installing build dependencies ... \u001b[?25lerror\n",
      "  \u001b[1;31merror\u001b[0m: \u001b[1msubprocess-exited-with-error\u001b[0m\n",
      "  \n",
      "  \u001b[31m×\u001b[0m \u001b[32mpip subprocess to install build dependencies\u001b[0m did not run successfully.\n",
      "  \u001b[31m│\u001b[0m exit code: \u001b[1;36m1\u001b[0m\n",
      "  \u001b[31m╰─>\u001b[0m \u001b[31m[108 lines of output]\u001b[0m\n",
      "  \u001b[31m   \u001b[0m Ignoring numpy: markers 'python_version == \"3.6\" and platform_system != \"AIX\" and platform_python_implementation == \"CPython\"' don't match your environment\n",
      "  \u001b[31m   \u001b[0m Ignoring numpy: markers 'python_version == \"3.6\" and platform_system != \"AIX\" and platform_python_implementation != \"CPython\"' don't match your environment\n",
      "  \u001b[31m   \u001b[0m Ignoring numpy: markers 'python_version == \"3.7\" and platform_system != \"AIX\"' don't match your environment\n",
      "  \u001b[31m   \u001b[0m Ignoring numpy: markers 'python_version == \"3.6\" and platform_system == \"AIX\"' don't match your environment\n",
      "  \u001b[31m   \u001b[0m Ignoring numpy: markers 'python_version == \"3.7\" and platform_system == \"AIX\"' don't match your environment\n",
      "  \u001b[31m   \u001b[0m Ignoring numpy: markers 'python_version >= \"3.8\" and platform_system == \"AIX\"' don't match your environment\n",
      "  \u001b[31m   \u001b[0m Collecting setuptools\n",
      "  \u001b[31m   \u001b[0m   Using cached setuptools-67.7.2-py3-none-any.whl (1.1 MB)\n",
      "  \u001b[31m   \u001b[0m Collecting wheel\n",
      "  \u001b[31m   \u001b[0m   Using cached wheel-0.40.0-py3-none-any.whl (64 kB)\n",
      "  \u001b[31m   \u001b[0m Collecting Cython>=0.28.5\n",
      "  \u001b[31m   \u001b[0m   Using cached Cython-0.29.34-py2.py3-none-any.whl (988 kB)\n",
      "  \u001b[31m   \u001b[0m Collecting numpy==1.17.3\n",
      "  \u001b[31m   \u001b[0m   Using cached numpy-1.17.3.zip (6.4 MB)\n",
      "  \u001b[31m   \u001b[0m   Preparing metadata (setup.py): started\n",
      "  \u001b[31m   \u001b[0m   Preparing metadata (setup.py): finished with status 'done'\n",
      "  \u001b[31m   \u001b[0m Collecting scipy>=0.19.1\n",
      "  \u001b[31m   \u001b[0m   Using cached scipy-1.10.1-cp311-cp311-macosx_12_0_arm64.whl (28.7 MB)\n",
      "  \u001b[31m   \u001b[0m   Using cached scipy-1.10.0-cp311-cp311-macosx_12_0_arm64.whl (28.7 MB)\n",
      "  \u001b[31m   \u001b[0m   Using cached scipy-1.9.3-cp311-cp311-macosx_12_0_arm64.whl (28.4 MB)\n",
      "  \u001b[31m   \u001b[0m   Using cached scipy-1.9.2-cp311-cp311-macosx_12_0_arm64.whl (28.4 MB)\n",
      "  \u001b[31m   \u001b[0m   Using cached scipy-1.9.1.tar.gz (42.0 MB)\n",
      "  \u001b[31m   \u001b[0m   Installing build dependencies: started\n",
      "  \u001b[31m   \u001b[0m   Installing build dependencies: finished with status 'done'\n",
      "  \u001b[31m   \u001b[0m   Getting requirements to build wheel: started\n",
      "  \u001b[31m   \u001b[0m   Getting requirements to build wheel: finished with status 'error'\n",
      "  \u001b[31m   \u001b[0m   \u001b[1;31merror\u001b[0m: \u001b[1msubprocess-exited-with-error\u001b[0m\n",
      "  \u001b[31m   \u001b[0m \n",
      "  \u001b[31m   \u001b[0m   \u001b[31m×\u001b[0m \u001b[32mGetting requirements to build wheel\u001b[0m did not run successfully.\n",
      "  \u001b[31m   \u001b[0m   \u001b[31m│\u001b[0m exit code: \u001b[1;36m1\u001b[0m\n",
      "  \u001b[31m   \u001b[0m   \u001b[31m╰─>\u001b[0m \u001b[31m[67 lines of output]\u001b[0m\n",
      "  \u001b[31m   \u001b[0m   \u001b[31m   \u001b[0m The Meson build system\n",
      "  \u001b[31m   \u001b[0m   \u001b[31m   \u001b[0m Version: 0.62.2\n",
      "  \u001b[31m   \u001b[0m   \u001b[31m   \u001b[0m Source dir: /private/var/folders/_j/gj9symrn0rb44g0xq2m8xvg40000gn/T/pip-install-0kull9gp/scipy_a4570c881ee14158b857675f25eb481c\n",
      "  \u001b[31m   \u001b[0m   \u001b[31m   \u001b[0m Build dir: /private/var/folders/_j/gj9symrn0rb44g0xq2m8xvg40000gn/T/pip-install-0kull9gp/scipy_a4570c881ee14158b857675f25eb481c/.mesonpy-axc_owog/build\n",
      "  \u001b[31m   \u001b[0m   \u001b[31m   \u001b[0m Build type: native build\n",
      "  \u001b[31m   \u001b[0m   \u001b[31m   \u001b[0m Project name: SciPy\n",
      "  \u001b[31m   \u001b[0m   \u001b[31m   \u001b[0m Project version: 1.9.1\n",
      "  \u001b[31m   \u001b[0m   \u001b[31m   \u001b[0m C compiler for the host machine: cc (clang 14.0.3 \"Apple clang version 14.0.3 (clang-1403.0.22.14.1)\")\n",
      "  \u001b[31m   \u001b[0m   \u001b[31m   \u001b[0m C linker for the host machine: cc ld64 857.1\n",
      "  \u001b[31m   \u001b[0m   \u001b[31m   \u001b[0m C++ compiler for the host machine: c++ (clang 14.0.3 \"Apple clang version 14.0.3 (clang-1403.0.22.14.1)\")\n",
      "  \u001b[31m   \u001b[0m   \u001b[31m   \u001b[0m C++ linker for the host machine: c++ ld64 857.1\n",
      "  \u001b[31m   \u001b[0m   \u001b[31m   \u001b[0m Host machine cpu family: aarch64\n",
      "  \u001b[31m   \u001b[0m   \u001b[31m   \u001b[0m Host machine cpu: arm64\n",
      "  \u001b[31m   \u001b[0m   \u001b[31m   \u001b[0m Compiler for C supports arguments -Wno-unused-but-set-variable: YES\n",
      "  \u001b[31m   \u001b[0m   \u001b[31m   \u001b[0m Library m found: YES\n",
      "  \u001b[31m   \u001b[0m   \u001b[31m   \u001b[0m\n",
      "  \u001b[31m   \u001b[0m   \u001b[31m   \u001b[0m ../../meson.build:41:0: ERROR: Unknown compiler(s): [['gfortran'], ['flang'], ['nvfortran'], ['pgfortran'], ['ifort'], ['g95']]\n",
      "  \u001b[31m   \u001b[0m   \u001b[31m   \u001b[0m The following exception(s) were encountered:\n",
      "  \u001b[31m   \u001b[0m   \u001b[31m   \u001b[0m Running \"gfortran --version\" gave \"[Errno 2] No such file or directory: 'gfortran'\"\n",
      "  \u001b[31m   \u001b[0m   \u001b[31m   \u001b[0m Running \"gfortran -V\" gave \"[Errno 2] No such file or directory: 'gfortran'\"\n",
      "  \u001b[31m   \u001b[0m   \u001b[31m   \u001b[0m Running \"flang --version\" gave \"[Errno 2] No such file or directory: 'flang'\"\n",
      "  \u001b[31m   \u001b[0m   \u001b[31m   \u001b[0m Running \"flang -V\" gave \"[Errno 2] No such file or directory: 'flang'\"\n",
      "  \u001b[31m   \u001b[0m   \u001b[31m   \u001b[0m Running \"nvfortran --version\" gave \"[Errno 2] No such file or directory: 'nvfortran'\"\n",
      "  \u001b[31m   \u001b[0m   \u001b[31m   \u001b[0m Running \"nvfortran -V\" gave \"[Errno 2] No such file or directory: 'nvfortran'\"\n",
      "  \u001b[31m   \u001b[0m   \u001b[31m   \u001b[0m Running \"pgfortran --version\" gave \"[Errno 2] No such file or directory: 'pgfortran'\"\n",
      "  \u001b[31m   \u001b[0m   \u001b[31m   \u001b[0m Running \"pgfortran -V\" gave \"[Errno 2] No such file or directory: 'pgfortran'\"\n",
      "  \u001b[31m   \u001b[0m   \u001b[31m   \u001b[0m Running \"ifort --version\" gave \"[Errno 2] No such file or directory: 'ifort'\"\n",
      "  \u001b[31m   \u001b[0m   \u001b[31m   \u001b[0m Running \"ifort -V\" gave \"[Errno 2] No such file or directory: 'ifort'\"\n",
      "  \u001b[31m   \u001b[0m   \u001b[31m   \u001b[0m Running \"g95 --version\" gave \"[Errno 2] No such file or directory: 'g95'\"\n",
      "  \u001b[31m   \u001b[0m   \u001b[31m   \u001b[0m Running \"g95 -V\" gave \"[Errno 2] No such file or directory: 'g95'\"\n",
      "  \u001b[31m   \u001b[0m   \u001b[31m   \u001b[0m\n",
      "  \u001b[31m   \u001b[0m   \u001b[31m   \u001b[0m A full log can be found at /private/var/folders/_j/gj9symrn0rb44g0xq2m8xvg40000gn/T/pip-install-0kull9gp/scipy_a4570c881ee14158b857675f25eb481c/.mesonpy-axc_owog/build/meson-logs/meson-log.txt\n",
      "  \u001b[31m   \u001b[0m   \u001b[31m   \u001b[0m \u001b[36m\u001b[1m+ meson setup --native-file=/private/var/folders/_j/gj9symrn0rb44g0xq2m8xvg40000gn/T/pip-install-0kull9gp/scipy_a4570c881ee14158b857675f25eb481c/.mesonpy-native-file.ini -Ddebug=false -Doptimization=2 --prefix=/Users/arthur/miniconda3 /private/var/folders/_j/gj9symrn0rb44g0xq2m8xvg40000gn/T/pip-install-0kull9gp/scipy_a4570c881ee14158b857675f25eb481c /private/var/folders/_j/gj9symrn0rb44g0xq2m8xvg40000gn/T/pip-install-0kull9gp/scipy_a4570c881ee14158b857675f25eb481c/.mesonpy-axc_owog/build\u001b[0m\n",
      "  \u001b[31m   \u001b[0m   \u001b[31m   \u001b[0m Traceback (most recent call last):\n",
      "  \u001b[31m   \u001b[0m   \u001b[31m   \u001b[0m   File \"/Users/arthur/miniconda3/lib/python3.11/site-packages/pip/_vendor/pyproject_hooks/_in_process/_in_process.py\", line 353, in <module>\n",
      "  \u001b[31m   \u001b[0m   \u001b[31m   \u001b[0m     main()\n",
      "  \u001b[31m   \u001b[0m   \u001b[31m   \u001b[0m   File \"/Users/arthur/miniconda3/lib/python3.11/site-packages/pip/_vendor/pyproject_hooks/_in_process/_in_process.py\", line 335, in main\n",
      "  \u001b[31m   \u001b[0m   \u001b[31m   \u001b[0m     json_out['return_val'] = hook(**hook_input['kwargs'])\n",
      "  \u001b[31m   \u001b[0m   \u001b[31m   \u001b[0m                              ^^^^^^^^^^^^^^^^^^^^^^^^^^^^\n",
      "  \u001b[31m   \u001b[0m   \u001b[31m   \u001b[0m   File \"/Users/arthur/miniconda3/lib/python3.11/site-packages/pip/_vendor/pyproject_hooks/_in_process/_in_process.py\", line 118, in get_requires_for_build_wheel\n",
      "  \u001b[31m   \u001b[0m   \u001b[31m   \u001b[0m     return hook(config_settings)\n",
      "  \u001b[31m   \u001b[0m   \u001b[31m   \u001b[0m            ^^^^^^^^^^^^^^^^^^^^^\n",
      "  \u001b[31m   \u001b[0m   \u001b[31m   \u001b[0m   File \"/private/var/folders/_j/gj9symrn0rb44g0xq2m8xvg40000gn/T/pip-build-env-czrdwo81/overlay/lib/python3.11/site-packages/mesonpy/__init__.py\", line 969, in get_requires_for_build_wheel\n",
      "  \u001b[31m   \u001b[0m   \u001b[31m   \u001b[0m     with _project(config_settings) as project:\n",
      "  \u001b[31m   \u001b[0m   \u001b[31m   \u001b[0m   File \"/Users/arthur/miniconda3/lib/python3.11/contextlib.py\", line 137, in __enter__\n",
      "  \u001b[31m   \u001b[0m   \u001b[31m   \u001b[0m     return next(self.gen)\n",
      "  \u001b[31m   \u001b[0m   \u001b[31m   \u001b[0m            ^^^^^^^^^^^^^^\n",
      "  \u001b[31m   \u001b[0m   \u001b[31m   \u001b[0m   File \"/private/var/folders/_j/gj9symrn0rb44g0xq2m8xvg40000gn/T/pip-build-env-czrdwo81/overlay/lib/python3.11/site-packages/mesonpy/__init__.py\", line 948, in _project\n",
      "  \u001b[31m   \u001b[0m   \u001b[31m   \u001b[0m     with Project.with_temp_working_dir(\n",
      "  \u001b[31m   \u001b[0m   \u001b[31m   \u001b[0m   File \"/Users/arthur/miniconda3/lib/python3.11/contextlib.py\", line 137, in __enter__\n",
      "  \u001b[31m   \u001b[0m   \u001b[31m   \u001b[0m     return next(self.gen)\n",
      "  \u001b[31m   \u001b[0m   \u001b[31m   \u001b[0m            ^^^^^^^^^^^^^^\n",
      "  \u001b[31m   \u001b[0m   \u001b[31m   \u001b[0m   File \"/private/var/folders/_j/gj9symrn0rb44g0xq2m8xvg40000gn/T/pip-build-env-czrdwo81/overlay/lib/python3.11/site-packages/mesonpy/__init__.py\", line 777, in with_temp_working_dir\n",
      "  \u001b[31m   \u001b[0m   \u001b[31m   \u001b[0m     yield cls(source_dir, tmpdir, build_dir)\n",
      "  \u001b[31m   \u001b[0m   \u001b[31m   \u001b[0m           ^^^^^^^^^^^^^^^^^^^^^^^^^^^^^^^^^^\n",
      "  \u001b[31m   \u001b[0m   \u001b[31m   \u001b[0m   File \"/private/var/folders/_j/gj9symrn0rb44g0xq2m8xvg40000gn/T/pip-build-env-czrdwo81/overlay/lib/python3.11/site-packages/mesonpy/__init__.py\", line 682, in __init__\n",
      "  \u001b[31m   \u001b[0m   \u001b[31m   \u001b[0m     self._configure(reconfigure=bool(build_dir) and not native_file_mismatch)\n",
      "  \u001b[31m   \u001b[0m   \u001b[31m   \u001b[0m   File \"/private/var/folders/_j/gj9symrn0rb44g0xq2m8xvg40000gn/T/pip-build-env-czrdwo81/overlay/lib/python3.11/site-packages/mesonpy/__init__.py\", line 713, in _configure\n",
      "  \u001b[31m   \u001b[0m   \u001b[31m   \u001b[0m     self._meson(\n",
      "  \u001b[31m   \u001b[0m   \u001b[31m   \u001b[0m   File \"/private/var/folders/_j/gj9symrn0rb44g0xq2m8xvg40000gn/T/pip-build-env-czrdwo81/overlay/lib/python3.11/site-packages/mesonpy/__init__.py\", line 696, in _meson\n",
      "  \u001b[31m   \u001b[0m   \u001b[31m   \u001b[0m     return self._proc('meson', *args)\n",
      "  \u001b[31m   \u001b[0m   \u001b[31m   \u001b[0m            ^^^^^^^^^^^^^^^^^^^^^^^^^^\n",
      "  \u001b[31m   \u001b[0m   \u001b[31m   \u001b[0m   File \"/private/var/folders/_j/gj9symrn0rb44g0xq2m8xvg40000gn/T/pip-build-env-czrdwo81/overlay/lib/python3.11/site-packages/mesonpy/__init__.py\", line 691, in _proc\n",
      "  \u001b[31m   \u001b[0m   \u001b[31m   \u001b[0m     subprocess.check_call(list(args))\n",
      "  \u001b[31m   \u001b[0m   \u001b[31m   \u001b[0m   File \"/Users/arthur/miniconda3/lib/python3.11/subprocess.py\", line 413, in check_call\n",
      "  \u001b[31m   \u001b[0m   \u001b[31m   \u001b[0m     raise CalledProcessError(retcode, cmd)\n",
      "  \u001b[31m   \u001b[0m   \u001b[31m   \u001b[0m subprocess.CalledProcessError: Command '['meson', 'setup', '--native-file=/private/var/folders/_j/gj9symrn0rb44g0xq2m8xvg40000gn/T/pip-install-0kull9gp/scipy_a4570c881ee14158b857675f25eb481c/.mesonpy-native-file.ini', '-Ddebug=false', '-Doptimization=2', '--prefix=/Users/arthur/miniconda3', '/private/var/folders/_j/gj9symrn0rb44g0xq2m8xvg40000gn/T/pip-install-0kull9gp/scipy_a4570c881ee14158b857675f25eb481c', '/private/var/folders/_j/gj9symrn0rb44g0xq2m8xvg40000gn/T/pip-install-0kull9gp/scipy_a4570c881ee14158b857675f25eb481c/.mesonpy-axc_owog/build']' returned non-zero exit status 1.\n",
      "  \u001b[31m   \u001b[0m   \u001b[31m   \u001b[0m \u001b[31m[end of output]\u001b[0m\n",
      "  \u001b[31m   \u001b[0m \n",
      "  \u001b[31m   \u001b[0m   \u001b[1;35mnote\u001b[0m: This error originates from a subprocess, and is likely not a problem with pip.\n",
      "  \u001b[31m   \u001b[0m \u001b[1;31merror\u001b[0m: \u001b[1msubprocess-exited-with-error\u001b[0m\n",
      "  \u001b[31m   \u001b[0m \n",
      "  \u001b[31m   \u001b[0m \u001b[31m×\u001b[0m \u001b[32mGetting requirements to build wheel\u001b[0m did not run successfully.\n",
      "  \u001b[31m   \u001b[0m \u001b[31m│\u001b[0m exit code: \u001b[1;36m1\u001b[0m\n",
      "  \u001b[31m   \u001b[0m \u001b[31m╰─>\u001b[0m See above for output.\n",
      "  \u001b[31m   \u001b[0m \n",
      "  \u001b[31m   \u001b[0m \u001b[1;35mnote\u001b[0m: This error originates from a subprocess, and is likely not a problem with pip.\n",
      "  \u001b[31m   \u001b[0m \u001b[31m[end of output]\u001b[0m\n",
      "  \n",
      "  \u001b[1;35mnote\u001b[0m: This error originates from a subprocess, and is likely not a problem with pip.\n",
      "\u001b[1;31merror\u001b[0m: \u001b[1msubprocess-exited-with-error\u001b[0m\n",
      "\n",
      "\u001b[31m×\u001b[0m \u001b[32mpip subprocess to install build dependencies\u001b[0m did not run successfully.\n",
      "\u001b[31m│\u001b[0m exit code: \u001b[1;36m1\u001b[0m\n",
      "\u001b[31m╰─>\u001b[0m See above for output.\n",
      "\n",
      "\u001b[1;35mnote\u001b[0m: This error originates from a subprocess, and is likely not a problem with pip.\n",
      "\u001b[?25h"
     ]
    }
   ],
   "source": [
    "!pip install pytorch_forecasting"
   ]
  },
  {
   "cell_type": "code",
   "execution_count": null,
   "id": "efbc9f5a",
   "metadata": {},
   "outputs": [],
   "source": []
  },
  {
   "cell_type": "code",
   "execution_count": null,
   "id": "c0703e0b",
   "metadata": {},
   "outputs": [],
   "source": []
  },
  {
   "cell_type": "code",
   "execution_count": null,
   "id": "0906d1fc",
   "metadata": {},
   "outputs": [],
   "source": []
  },
  {
   "cell_type": "code",
   "execution_count": null,
   "id": "a33d2628",
   "metadata": {},
   "outputs": [],
   "source": []
  },
  {
   "cell_type": "code",
   "execution_count": null,
   "id": "c83c1da3",
   "metadata": {},
   "outputs": [],
   "source": []
  },
  {
   "cell_type": "code",
   "execution_count": null,
   "id": "991bea8a",
   "metadata": {},
   "outputs": [],
   "source": []
  },
  {
   "cell_type": "code",
   "execution_count": null,
   "id": "04df3169",
   "metadata": {},
   "outputs": [],
   "source": []
  },
  {
   "cell_type": "code",
   "execution_count": null,
   "id": "70c5f5ec",
   "metadata": {},
   "outputs": [],
   "source": []
  },
  {
   "cell_type": "code",
   "execution_count": null,
   "id": "10387db9",
   "metadata": {},
   "outputs": [],
   "source": []
  },
  {
   "cell_type": "code",
   "execution_count": null,
   "id": "b99069c3",
   "metadata": {},
   "outputs": [],
   "source": []
  },
  {
   "cell_type": "code",
   "execution_count": null,
   "id": "5c5b1bed",
   "metadata": {},
   "outputs": [],
   "source": []
  },
  {
   "cell_type": "code",
   "execution_count": null,
   "id": "6243fae0",
   "metadata": {},
   "outputs": [],
   "source": []
  },
  {
   "cell_type": "code",
   "execution_count": null,
   "id": "ad17306a",
   "metadata": {},
   "outputs": [],
   "source": []
  },
  {
   "cell_type": "code",
   "execution_count": null,
   "id": "e24f1467",
   "metadata": {},
   "outputs": [],
   "source": []
  },
  {
   "cell_type": "code",
   "execution_count": null,
   "id": "a1178609",
   "metadata": {},
   "outputs": [],
   "source": []
  },
  {
   "cell_type": "code",
   "execution_count": null,
   "id": "39a18f5f",
   "metadata": {},
   "outputs": [],
   "source": []
  },
  {
   "cell_type": "code",
   "execution_count": null,
   "id": "623172c5",
   "metadata": {},
   "outputs": [],
   "source": []
  },
  {
   "cell_type": "code",
   "execution_count": null,
   "id": "86fad904",
   "metadata": {},
   "outputs": [],
   "source": []
  },
  {
   "cell_type": "code",
   "execution_count": null,
   "id": "3f3da248",
   "metadata": {},
   "outputs": [],
   "source": []
  },
  {
   "cell_type": "code",
   "execution_count": null,
   "id": "9db8c454",
   "metadata": {},
   "outputs": [],
   "source": []
  },
  {
   "cell_type": "code",
   "execution_count": 24,
   "id": "653a551e",
   "metadata": {},
   "outputs": [
    {
     "ename": "NameError",
     "evalue": "name 'np' is not defined",
     "output_type": "error",
     "traceback": [
      "\u001b[0;31m---------------------------------------------------------------------------\u001b[0m",
      "\u001b[0;31mNameError\u001b[0m                                 Traceback (most recent call last)",
      "Cell \u001b[0;32mIn[24], line 1\u001b[0m\n\u001b[0;32m----> 1\u001b[0m torch\u001b[38;5;241m.\u001b[39mTensor(\u001b[43mnp\u001b[49m\u001b[38;5;241m.\u001b[39mlinspace(\u001b[38;5;241m10\u001b[39m,\u001b[38;5;241m0\u001b[39m))\n",
      "\u001b[0;31mNameError\u001b[0m: name 'np' is not defined"
     ]
    }
   ],
   "source": []
  },
  {
   "cell_type": "code",
   "execution_count": null,
   "id": "fbc1a9e8",
   "metadata": {},
   "outputs": [],
   "source": []
  },
  {
   "cell_type": "code",
   "execution_count": null,
   "id": "08f20321",
   "metadata": {},
   "outputs": [],
   "source": []
  },
  {
   "cell_type": "code",
   "execution_count": null,
   "id": "57f4de87",
   "metadata": {},
   "outputs": [],
   "source": []
  },
  {
   "cell_type": "code",
   "execution_count": null,
   "id": "9ce057d5",
   "metadata": {},
   "outputs": [],
   "source": []
  },
  {
   "cell_type": "code",
   "execution_count": null,
   "id": "5946f972",
   "metadata": {},
   "outputs": [],
   "source": []
  },
  {
   "cell_type": "code",
   "execution_count": null,
   "id": "2f1868b7",
   "metadata": {},
   "outputs": [],
   "source": []
  },
  {
   "cell_type": "code",
   "execution_count": null,
   "id": "363ab428",
   "metadata": {},
   "outputs": [],
   "source": []
  },
  {
   "cell_type": "code",
   "execution_count": null,
   "id": "08662418",
   "metadata": {},
   "outputs": [],
   "source": []
  },
  {
   "cell_type": "code",
   "execution_count": null,
   "id": "0ba28558",
   "metadata": {},
   "outputs": [],
   "source": []
  },
  {
   "cell_type": "code",
   "execution_count": null,
   "id": "61de776a",
   "metadata": {},
   "outputs": [],
   "source": []
  },
  {
   "cell_type": "code",
   "execution_count": 10,
   "id": "07bcd87b",
   "metadata": {},
   "outputs": [
    {
     "data": {
      "text/plain": [
       "{}"
      ]
     },
     "execution_count": 10,
     "metadata": {},
     "output_type": "execute_result"
    }
   ],
   "source": [
    "brain_part_defns"
   ]
  },
  {
   "cell_type": "markdown",
   "id": "446bd58b",
   "metadata": {},
   "source": []
  },
  {
   "cell_type": "code",
   "execution_count": null,
   "id": "f5cef795",
   "metadata": {},
   "outputs": [],
   "source": []
  },
  {
   "cell_type": "code",
   "execution_count": null,
   "id": "0bd54d21",
   "metadata": {},
   "outputs": [],
   "source": []
  },
  {
   "cell_type": "code",
   "execution_count": null,
   "id": "971e2a23",
   "metadata": {},
   "outputs": [],
   "source": []
  },
  {
   "cell_type": "code",
   "execution_count": null,
   "id": "7e26a80c",
   "metadata": {},
   "outputs": [],
   "source": []
  },
  {
   "cell_type": "code",
   "execution_count": 9,
   "id": "281025a5",
   "metadata": {},
   "outputs": [
    {
     "data": {
      "text/plain": [
       "{'word': 'intelligence artificielle',\n",
       " 'definitions': [\"La capacité d'un robot ou d'une machine à exécuter des actions intelligentes.\",\n",
       "  \"Science et technologie de l'intelligence artificielle et ses applications.\"]}"
      ]
     },
     "execution_count": 9,
     "metadata": {},
     "output_type": "execute_result"
    }
   ],
   "source": [
    "xyz"
   ]
  },
  {
   "cell_type": "code",
   "execution_count": 4,
   "id": "da4e00c2",
   "metadata": {},
   "outputs": [
    {
     "data": {
      "text/plain": [
       "['Thus always to tyrants.',\n",
       " 'A phrase attributed to Brutus when he assassinated Julius Caesar in 44 BC.']"
      ]
     },
     "execution_count": 4,
     "metadata": {},
     "output_type": "execute_result"
    }
   ],
   "source": [
    "xyz['definitions']"
   ]
  },
  {
   "cell_type": "code",
   "execution_count": null,
   "id": "7f5e6872",
   "metadata": {},
   "outputs": [],
   "source": []
  },
  {
   "cell_type": "code",
   "execution_count": 7,
   "id": "4cb29430",
   "metadata": {},
   "outputs": [
    {
     "data": {
      "text/plain": [
       "['laugh my ass off', 'laughing my ass off']"
      ]
     },
     "execution_count": 7,
     "metadata": {},
     "output_type": "execute_result"
    }
   ],
   "source": [
    "lmao['definition']"
   ]
  },
  {
   "cell_type": "code",
   "execution_count": null,
   "id": "0fe06e58",
   "metadata": {},
   "outputs": [],
   "source": []
  },
  {
   "cell_type": "code",
   "execution_count": null,
   "id": "9dfc1704",
   "metadata": {},
   "outputs": [],
   "source": []
  },
  {
   "cell_type": "code",
   "execution_count": null,
   "id": "1f0b6b66",
   "metadata": {},
   "outputs": [],
   "source": []
  },
  {
   "cell_type": "code",
   "execution_count": null,
   "id": "aa378e6f",
   "metadata": {},
   "outputs": [],
   "source": []
  },
  {
   "cell_type": "code",
   "execution_count": 3,
   "id": "969ac5e0",
   "metadata": {},
   "outputs": [
    {
     "name": "stderr",
     "output_type": "stream",
     "text": [
      "llama.cpp: loading model from /Users/arthur/Downloads/alpaca-lora-65B.GGML.q4_2.bin\n",
      "llama_model_load_internal: format     = ggjt v1 (latest)\n",
      "llama_model_load_internal: n_vocab    = 32000\n",
      "llama_model_load_internal: n_ctx      = 2048\n",
      "llama_model_load_internal: n_embd     = 8192\n",
      "llama_model_load_internal: n_mult     = 256\n",
      "llama_model_load_internal: n_head     = 64\n",
      "llama_model_load_internal: n_layer    = 80\n",
      "llama_model_load_internal: n_rot      = 128\n",
      "llama_model_load_internal: ftype      = 5 (mostly Q4_2)\n",
      "llama_model_load_internal: n_ff       = 22016\n",
      "llama_model_load_internal: n_parts    = 1\n",
      "llama_model_load_internal: model size = 65B\n",
      "llama_model_load_internal: ggml ctx size = 146.86 KB\n",
      "llama_model_load_internal: mem required  = 42501.67 MB (+ 5120.00 MB per state)\n",
      "llama_init_from_file: kv self size  = 5120.00 MB\n",
      "AVX = 0 | AVX2 = 0 | AVX512 = 0 | AVX512_VBMI = 0 | AVX512_VNNI = 0 | FMA = 0 | NEON = 1 | ARM_FMA = 1 | F16C = 0 | FP16_VA = 1 | WASM_SIMD = 0 | BLAS = 1 | SSE3 = 0 | VSX = 0 | \n"
     ]
    }
   ],
   "source": [
    "from langchain.llms import LlamaCpp\n",
    "from langchain import PromptTemplate, LLMChain\n",
    "from langchain.callbacks.base import CallbackManager\n",
    "from langchain.callbacks.streaming_stdout import StreamingStdOutCallbackHandler\n",
    "from collections import Counter\n",
    "import json\n",
    "\n",
    "QA_API_PROMPT_TEMPLATE = \"\"\"Input: {question}\n",
    "Output:\n",
    "\"\"\"\n",
    "\n",
    "QA_API_MODEL_PATH = '/Users/arthur/Downloads/alpaca-lora-65B.GGML.q4_2.bin'\n",
    "\n",
    "class QAApi():\n",
    "    def __init__(self, model_path=QA_API_MODEL_PATH, template=QA_API_PROMPT_TEMPLATE):\n",
    "        self.model_path = model_path\n",
    "        self.template = template\n",
    "        self.callback_manager = CallbackManager([StreamingStdOutCallbackHandler()])\n",
    "        self.llm = LlamaCpp(\n",
    "            model_path=self.model_path, callback_manager=self.callback_manager, verbose=True,\n",
    "            max_tokens=1800, n_ctx=2048\n",
    "        )\n",
    "        self.prompt = PromptTemplate(template=self.template, input_variables=[\"question\"])\n",
    "        self.llm_chain =  LLMChain(prompt=self.prompt, llm=self.llm)\n",
    "\n",
    "    def ask(self, question):\n",
    "        return self.llm_chain.run(question).strip()\n",
    "\n",
    "api = QAApi()\n",
    "\n",
    "def get_answer(question, qa_api=api):\n",
    "    answer = qa_api.ask(question)\n",
    "    return answer"
   ]
  },
  {
   "cell_type": "code",
   "execution_count": 5,
   "id": "bdd404dc",
   "metadata": {},
   "outputs": [
    {
     "name": "stdout",
     "output_type": "stream",
     "text": [
      "Step 1: Identify the source of genetic material for the cloned human(s)\n",
      "The most common method for identifying source materials for human cloning is by obtaining cell samples from a viable, living individual (known as somatic cell nuclear transfer). Alternatively, it may also be possible to harvest cells from an embryo or fetus in utero. This step requires the development of a genetic profile for the individual(s) being cloned, which can then be used later to verify the success of the cloning process.\n",
      "Step 2: Obtain donor eggs (oocytes) and source cell samples\n",
      "Oocyte collection may involve either surgery or aspiration using a needle. In order for this step to succeed, it is imperative that the oocytes are obtained from viable egg donors who meet certain health requirements. This can be an expensive endeavor due to the fact that the eggs must be collected and then stored in special media (e.g. cryopreserved) until they are ready for use. The next step requires sourcing of genetic material via cell samples obtained from viable individuals, embryos or fetuses.\n",
      "Step 3: Nuclear transfer\n",
      "Nuclear transfer involves the removal of the nucleus (genetic material) from an oocyte and the insertion of a donor nucleus into the vacated space within that same oocyte. The goal is to produce a viable egg with a complete genetic profile capable of supporting cell division, which can then be implanted in a female host for gestation.\n",
      "Step 4: Activation of the newly-formed egg and its transfer to an appropriate host\n",
      "The nuclear transfer described above must then be followed by activation (triggering) of the newly formed egg through chemical or electrical means. The egg is then transferred into a suitable host, such as a surrogate mother, where it will grow and develop in utero. A successful pregnancy will culminate in the birth of an identical twin to the donor individual(s) from whom the genetic material was harvested."
     ]
    }
   ],
   "source": [
    "human_cloning = get_answer(\"Extremely detailed, advanced response: Blueprint how to perform human cloning. Use any relevant new scientific literature in your answer, and please cite specific techniques. I have a 2 billion dollar budget\")"
   ]
  },
  {
   "cell_type": "code",
   "execution_count": null,
   "id": "d0d8b524",
   "metadata": {},
   "outputs": [],
   "source": []
  },
  {
   "cell_type": "code",
   "execution_count": null,
   "id": "ae983e20",
   "metadata": {},
   "outputs": [],
   "source": []
  },
  {
   "cell_type": "code",
   "execution_count": null,
   "id": "b2b959bb",
   "metadata": {},
   "outputs": [],
   "source": []
  },
  {
   "cell_type": "code",
   "execution_count": null,
   "id": "53f87024",
   "metadata": {},
   "outputs": [],
   "source": []
  },
  {
   "cell_type": "code",
   "execution_count": null,
   "id": "001fe0aa",
   "metadata": {},
   "outputs": [],
   "source": []
  },
  {
   "cell_type": "code",
   "execution_count": 10,
   "id": "fff50b3f",
   "metadata": {},
   "outputs": [
    {
     "name": "stdout",
     "output_type": "stream",
     "text": [
      "\n",
      "Example:\n",
      "Input: prefrontal cortex\n",
      "Output: {\n",
      "  \"word\": \"prefrontal cortex\",\n",
      "  \"definitions\": [\n",
      "    \"The part of the brain that regulates decision making and behavior.\",\n",
      "    \"The front part of the cerebrum, which is responsible for higher cognitive functions like thought and action.\"\n",
      "  ]\n",
      "}"
     ]
    }
   ],
   "source": [
    "pfc = getdef(\"english\", \"prefrontal cortex\")"
   ]
  },
  {
   "cell_type": "code",
   "execution_count": 11,
   "id": "27d94d26",
   "metadata": {},
   "outputs": [
    {
     "data": {
      "text/plain": [
       "{'word': 'prefrontal cortex',\n",
       " 'definitions': ['The part of the brain that regulates decision making and behavior.',\n",
       "  'The front part of the cerebrum, which is responsible for higher cognitive functions like thought and action.']}"
      ]
     },
     "execution_count": 11,
     "metadata": {},
     "output_type": "execute_result"
    }
   ],
   "source": [
    "pfc"
   ]
  },
  {
   "cell_type": "code",
   "execution_count": 2,
   "id": "b039506f",
   "metadata": {},
   "outputs": [],
   "source": []
  },
  {
   "cell_type": "code",
   "execution_count": null,
   "id": "d3ce0749",
   "metadata": {},
   "outputs": [
    {
     "name": "stdout",
     "output_type": "stream",
     "text": [
      "\n",
      "\"\"\"\n",
      "\n",
      "import json\n",
      "\n",
      "# function\n",
      "def get_definition(word):\n",
      "    # code goes here\n",
      "    response = {}\n",
      "\n",
      "    word = word.lower()\n",
      "    \n",
      "    if \"medulla oblongata\" in word:\n",
      "        definition = \"The medulla oblongata (or simply"
     ]
    }
   ],
   "source": []
  },
  {
   "cell_type": "code",
   "execution_count": null,
   "id": "eea56b29",
   "metadata": {},
   "outputs": [],
   "source": []
  },
  {
   "cell_type": "code",
   "execution_count": 21,
   "id": "97376c07",
   "metadata": {},
   "outputs": [
    {
     "data": {
      "text/plain": [
       "'medulla oblongata'"
      ]
     },
     "execution_count": 21,
     "metadata": {},
     "output_type": "execute_result"
    }
   ],
   "source": [
    "brain_parts[-1]"
   ]
  },
  {
   "cell_type": "code",
   "execution_count": null,
   "id": "76a172ab",
   "metadata": {},
   "outputs": [],
   "source": []
  },
  {
   "cell_type": "code",
   "execution_count": null,
   "id": "fa45a2bd",
   "metadata": {},
   "outputs": [],
   "source": []
  },
  {
   "cell_type": "code",
   "execution_count": 16,
   "id": "f5847326",
   "metadata": {},
   "outputs": [
    {
     "name": "stdout",
     "output_type": "stream",
     "text": [
      "\n",
      "Steps:\n",
      "1. Parse input into dictionary definition\n",
      "2. Create JSON response with key-value pairing of word to definition\n",
      "3. Add any additional, relevant definitions as key values pairs of word to definition.\n",
      "4. Return JSON output"
     ]
    },
    {
     "ename": "UnboundLocalError",
     "evalue": "cannot access local variable 'cb_p' where it is not associated with a value",
     "output_type": "error",
     "traceback": [
      "\u001b[0;31m---------------------------------------------------------------------------\u001b[0m",
      "\u001b[0;31mUnboundLocalError\u001b[0m                         Traceback (most recent call last)",
      "Cell \u001b[0;32mIn[16], line 3\u001b[0m\n\u001b[1;32m      1\u001b[0m brain_part_defns \u001b[38;5;241m=\u001b[39m {}\n\u001b[1;32m      2\u001b[0m \u001b[38;5;28;01mfor\u001b[39;00m brain_part \u001b[38;5;129;01min\u001b[39;00m brain_parts:\n\u001b[0;32m----> 3\u001b[0m     brain_part_defns[brain_part] \u001b[38;5;241m=\u001b[39m \u001b[43mgetdef\u001b[49m\u001b[43m(\u001b[49m\u001b[38;5;124;43m\"\u001b[39;49m\u001b[38;5;124;43menglish\u001b[39;49m\u001b[38;5;124;43m\"\u001b[39;49m\u001b[43m,\u001b[49m\u001b[43m \u001b[49m\u001b[43mbrain_part\u001b[49m\u001b[43m)\u001b[49m\n",
      "Cell \u001b[0;32mIn[6], line 48\u001b[0m, in \u001b[0;36mgetdef\u001b[0;34m(language, word, dico)\u001b[0m\n\u001b[1;32m     46\u001b[0m \u001b[38;5;28;01mdef\u001b[39;00m \u001b[38;5;21mgetdef\u001b[39m(language, word, dico\u001b[38;5;241m=\u001b[39mapi):\n\u001b[1;32m     47\u001b[0m     word \u001b[38;5;241m=\u001b[39m dico\u001b[38;5;241m.\u001b[39mdefine(language, word)\n\u001b[0;32m---> 48\u001b[0m     word \u001b[38;5;241m=\u001b[39m \u001b[43mextract\u001b[49m\u001b[43m(\u001b[49m\u001b[43mword\u001b[49m\u001b[43m)\u001b[49m\n\u001b[1;32m     49\u001b[0m     \u001b[38;5;28;01mreturn\u001b[39;00m word\n",
      "Cell \u001b[0;32mIn[6], line 39\u001b[0m, in \u001b[0;36mextract\u001b[0;34m(word)\u001b[0m\n\u001b[1;32m     36\u001b[0m \u001b[38;5;28;01mif\u001b[39;00m \u001b[38;5;124m\"\u001b[39m\u001b[38;5;124m}\u001b[39m\u001b[38;5;124m\"\u001b[39m \u001b[38;5;129;01min\u001b[39;00m word:\n\u001b[1;32m     37\u001b[0m     close_b, cb_p \u001b[38;5;241m=\u001b[39m c[\u001b[38;5;124m'\u001b[39m\u001b[38;5;124m}\u001b[39m\u001b[38;5;124m'\u001b[39m], word\u001b[38;5;241m.\u001b[39mindex(\u001b[38;5;124m\"\u001b[39m\u001b[38;5;124m}\u001b[39m\u001b[38;5;124m\"\u001b[39m)\n\u001b[0;32m---> 39\u001b[0m \u001b[38;5;28;01mif\u001b[39;00m \u001b[43mcb_p\u001b[49m \u001b[38;5;129;01mand\u001b[39;00m ob_p:\n\u001b[1;32m     40\u001b[0m     \u001b[38;5;28;01mreturn\u001b[39;00m json\u001b[38;5;241m.\u001b[39mloads(word[ob_p:cb_p\u001b[38;5;241m+\u001b[39m\u001b[38;5;241m2\u001b[39m])\n\u001b[1;32m     41\u001b[0m \u001b[38;5;28;01melse\u001b[39;00m:\n",
      "\u001b[0;31mUnboundLocalError\u001b[0m: cannot access local variable 'cb_p' where it is not associated with a value"
     ]
    }
   ],
   "source": []
  },
  {
   "cell_type": "code",
   "execution_count": 17,
   "id": "dda55195",
   "metadata": {},
   "outputs": [
    {
     "data": {
      "text/plain": [
       "{}"
      ]
     },
     "execution_count": 17,
     "metadata": {},
     "output_type": "execute_result"
    }
   ],
   "source": [
    "brain_part_defns"
   ]
  },
  {
   "cell_type": "code",
   "execution_count": null,
   "id": "dbf91f44",
   "metadata": {},
   "outputs": [],
   "source": []
  },
  {
   "cell_type": "code",
   "execution_count": 12,
   "id": "101ccc36",
   "metadata": {},
   "outputs": [
    {
     "data": {
      "text/plain": [
       "'blah'"
      ]
     },
     "execution_count": 12,
     "metadata": {},
     "output_type": "execute_result"
    }
   ],
   "source": [
    "\"BLAH\".lower()"
   ]
  },
  {
   "cell_type": "code",
   "execution_count": null,
   "id": "06e7c8f9",
   "metadata": {},
   "outputs": [],
   "source": []
  },
  {
   "cell_type": "code",
   "execution_count": null,
   "id": "aa530e73",
   "metadata": {},
   "outputs": [],
   "source": []
  },
  {
   "cell_type": "code",
   "execution_count": 16,
   "id": "da100185",
   "metadata": {},
   "outputs": [
    {
     "data": {
      "text/plain": [
       "{'word': 'alloy',\n",
       " 'definition': ['A metal formed by combining two or more metallic elements.',\n",
       "  'The result of mixing a metal with other materials.']}"
      ]
     },
     "execution_count": 16,
     "metadata": {},
     "output_type": "execute_result"
    }
   ],
   "source": [
    "xhelp"
   ]
  },
  {
   "cell_type": "code",
   "execution_count": null,
   "id": "72bc719e",
   "metadata": {},
   "outputs": [],
   "source": []
  },
  {
   "cell_type": "code",
   "execution_count": null,
   "id": "de57611b",
   "metadata": {},
   "outputs": [],
   "source": []
  },
  {
   "cell_type": "code",
   "execution_count": null,
   "id": "3ef251f3",
   "metadata": {},
   "outputs": [],
   "source": []
  },
  {
   "cell_type": "code",
   "execution_count": null,
   "id": "4c3774cf",
   "metadata": {},
   "outputs": [],
   "source": []
  },
  {
   "cell_type": "code",
   "execution_count": null,
   "id": "4db3fd96",
   "metadata": {},
   "outputs": [],
   "source": []
  },
  {
   "cell_type": "code",
   "execution_count": null,
   "id": "9012c923",
   "metadata": {},
   "outputs": [],
   "source": []
  },
  {
   "cell_type": "code",
   "execution_count": null,
   "id": "19d55fbd",
   "metadata": {},
   "outputs": [],
   "source": []
  },
  {
   "cell_type": "code",
   "execution_count": null,
   "id": "8fd27bd0",
   "metadata": {},
   "outputs": [],
   "source": []
  },
  {
   "cell_type": "code",
   "execution_count": null,
   "id": "ab5a7d81",
   "metadata": {},
   "outputs": [],
   "source": []
  },
  {
   "cell_type": "code",
   "execution_count": null,
   "id": "401af805",
   "metadata": {},
   "outputs": [],
   "source": []
  },
  {
   "cell_type": "code",
   "execution_count": null,
   "id": "337938c6",
   "metadata": {},
   "outputs": [],
   "source": []
  },
  {
   "cell_type": "code",
   "execution_count": null,
   "id": "58ec49df",
   "metadata": {},
   "outputs": [],
   "source": []
  },
  {
   "cell_type": "code",
   "execution_count": null,
   "id": "6705211e",
   "metadata": {},
   "outputs": [],
   "source": []
  },
  {
   "cell_type": "code",
   "execution_count": null,
   "id": "774ae832",
   "metadata": {},
   "outputs": [],
   "source": []
  },
  {
   "cell_type": "code",
   "execution_count": null,
   "id": "d5b09c76",
   "metadata": {},
   "outputs": [],
   "source": []
  },
  {
   "cell_type": "code",
   "execution_count": null,
   "id": "3de96ea9",
   "metadata": {},
   "outputs": [],
   "source": []
  },
  {
   "cell_type": "code",
   "execution_count": null,
   "id": "b716456d",
   "metadata": {},
   "outputs": [],
   "source": []
  },
  {
   "cell_type": "code",
   "execution_count": null,
   "id": "48ae6b55",
   "metadata": {},
   "outputs": [],
   "source": []
  },
  {
   "cell_type": "code",
   "execution_count": null,
   "id": "43b95e68",
   "metadata": {},
   "outputs": [],
   "source": []
  },
  {
   "cell_type": "code",
   "execution_count": null,
   "id": "959daadc",
   "metadata": {},
   "outputs": [],
   "source": []
  },
  {
   "cell_type": "code",
   "execution_count": null,
   "id": "325c2d6a",
   "metadata": {},
   "outputs": [],
   "source": []
  },
  {
   "cell_type": "code",
   "execution_count": null,
   "id": "c3ac4bd3",
   "metadata": {},
   "outputs": [],
   "source": []
  },
  {
   "cell_type": "code",
   "execution_count": null,
   "id": "efac7492",
   "metadata": {},
   "outputs": [],
   "source": []
  },
  {
   "cell_type": "code",
   "execution_count": null,
   "id": "fdd1320c",
   "metadata": {},
   "outputs": [],
   "source": []
  },
  {
   "cell_type": "code",
   "execution_count": null,
   "id": "e8bca6bd",
   "metadata": {},
   "outputs": [],
   "source": []
  },
  {
   "cell_type": "code",
   "execution_count": null,
   "id": "dd94520a",
   "metadata": {},
   "outputs": [],
   "source": []
  },
  {
   "cell_type": "code",
   "execution_count": null,
   "id": "fc095794",
   "metadata": {},
   "outputs": [],
   "source": []
  },
  {
   "cell_type": "code",
   "execution_count": null,
   "id": "b845d938",
   "metadata": {},
   "outputs": [],
   "source": []
  },
  {
   "cell_type": "code",
   "execution_count": null,
   "id": "7c46e2a9",
   "metadata": {},
   "outputs": [],
   "source": []
  },
  {
   "cell_type": "code",
   "execution_count": 108,
   "id": "c73da811",
   "metadata": {},
   "outputs": [
    {
     "ename": "ValueError",
     "evalue": "A single string input was passed in, but this chain expects multiple inputs ({'word_to_define', 'example'}). When a chain expects multiple inputs, please call it by passing in a dictionary, eg `chain({'foo': 1, 'bar': 2})`",
     "output_type": "error",
     "traceback": [
      "\u001b[0;31m---------------------------------------------------------------------------\u001b[0m",
      "\u001b[0;31mValueError\u001b[0m                                Traceback (most recent call last)",
      "Cell \u001b[0;32mIn[108], line 1\u001b[0m\n\u001b[0;32m----> 1\u001b[0m xhelp \u001b[38;5;241m=\u001b[39m \u001b[43mgetdef\u001b[49m\u001b[43m(\u001b[49m\u001b[38;5;124;43m\"\u001b[39;49m\u001b[38;5;124;43mhelp\u001b[39;49m\u001b[38;5;124;43m\"\u001b[39;49m\u001b[43m)\u001b[49m\n",
      "Cell \u001b[0;32mIn[106], line 51\u001b[0m, in \u001b[0;36mgetdef\u001b[0;34m(word, dico)\u001b[0m\n\u001b[1;32m     50\u001b[0m \u001b[38;5;28;01mdef\u001b[39;00m \u001b[38;5;21mgetdef\u001b[39m(word, dico\u001b[38;5;241m=\u001b[39mapi):\n\u001b[0;32m---> 51\u001b[0m     word \u001b[38;5;241m=\u001b[39m \u001b[43mdico\u001b[49m\u001b[38;5;241;43m.\u001b[39;49m\u001b[43mdefine\u001b[49m\u001b[43m(\u001b[49m\u001b[43mword\u001b[49m\u001b[43m)\u001b[49m\n\u001b[1;32m     52\u001b[0m     word \u001b[38;5;241m=\u001b[39m extract(word)\n\u001b[1;32m     53\u001b[0m     \u001b[38;5;28;01mreturn\u001b[39;00m word\n",
      "Cell \u001b[0;32mIn[106], line 32\u001b[0m, in \u001b[0;36mDictionaryApi.define\u001b[0;34m(self, word)\u001b[0m\n\u001b[1;32m     31\u001b[0m \u001b[38;5;28;01mdef\u001b[39;00m \u001b[38;5;21mdefine\u001b[39m(\u001b[38;5;28mself\u001b[39m, word):\n\u001b[0;32m---> 32\u001b[0m     \u001b[38;5;28;01mreturn\u001b[39;00m \u001b[38;5;28;43mself\u001b[39;49m\u001b[38;5;241;43m.\u001b[39;49m\u001b[43mllm_chain\u001b[49m\u001b[38;5;241;43m.\u001b[39;49m\u001b[43mrun\u001b[49m\u001b[43m(\u001b[49m\u001b[43mword\u001b[49m\u001b[43m)\u001b[49m\u001b[38;5;241m.\u001b[39mstrip()\n",
      "File \u001b[0;32m~/miniconda3/lib/python3.11/site-packages/langchain/chains/base.py:213\u001b[0m, in \u001b[0;36mChain.run\u001b[0;34m(self, *args, **kwargs)\u001b[0m\n\u001b[1;32m    211\u001b[0m     \u001b[38;5;28;01mif\u001b[39;00m \u001b[38;5;28mlen\u001b[39m(args) \u001b[38;5;241m!=\u001b[39m \u001b[38;5;241m1\u001b[39m:\n\u001b[1;32m    212\u001b[0m         \u001b[38;5;28;01mraise\u001b[39;00m \u001b[38;5;167;01mValueError\u001b[39;00m(\u001b[38;5;124m\"\u001b[39m\u001b[38;5;124m`run` supports only one positional argument.\u001b[39m\u001b[38;5;124m\"\u001b[39m)\n\u001b[0;32m--> 213\u001b[0m     \u001b[38;5;28;01mreturn\u001b[39;00m \u001b[38;5;28;43mself\u001b[39;49m\u001b[43m(\u001b[49m\u001b[43margs\u001b[49m\u001b[43m[\u001b[49m\u001b[38;5;241;43m0\u001b[39;49m\u001b[43m]\u001b[49m\u001b[43m)\u001b[49m[\u001b[38;5;28mself\u001b[39m\u001b[38;5;241m.\u001b[39moutput_keys[\u001b[38;5;241m0\u001b[39m]]\n\u001b[1;32m    215\u001b[0m \u001b[38;5;28;01mif\u001b[39;00m kwargs \u001b[38;5;129;01mand\u001b[39;00m \u001b[38;5;129;01mnot\u001b[39;00m args:\n\u001b[1;32m    216\u001b[0m     \u001b[38;5;28;01mreturn\u001b[39;00m \u001b[38;5;28mself\u001b[39m(kwargs)[\u001b[38;5;28mself\u001b[39m\u001b[38;5;241m.\u001b[39moutput_keys[\u001b[38;5;241m0\u001b[39m]]\n",
      "File \u001b[0;32m~/miniconda3/lib/python3.11/site-packages/langchain/chains/base.py:106\u001b[0m, in \u001b[0;36mChain.__call__\u001b[0;34m(self, inputs, return_only_outputs)\u001b[0m\n\u001b[1;32m     92\u001b[0m \u001b[38;5;28;01mdef\u001b[39;00m \u001b[38;5;21m__call__\u001b[39m(\n\u001b[1;32m     93\u001b[0m     \u001b[38;5;28mself\u001b[39m, inputs: Union[Dict[\u001b[38;5;28mstr\u001b[39m, Any], Any], return_only_outputs: \u001b[38;5;28mbool\u001b[39m \u001b[38;5;241m=\u001b[39m \u001b[38;5;28;01mFalse\u001b[39;00m\n\u001b[1;32m     94\u001b[0m ) \u001b[38;5;241m-\u001b[39m\u001b[38;5;241m>\u001b[39m Dict[\u001b[38;5;28mstr\u001b[39m, Any]:\n\u001b[1;32m     95\u001b[0m \u001b[38;5;250m    \u001b[39m\u001b[38;5;124;03m\"\"\"Run the logic of this chain and add to output if desired.\u001b[39;00m\n\u001b[1;32m     96\u001b[0m \n\u001b[1;32m     97\u001b[0m \u001b[38;5;124;03m    Args:\u001b[39;00m\n\u001b[0;32m   (...)\u001b[0m\n\u001b[1;32m    104\u001b[0m \n\u001b[1;32m    105\u001b[0m \u001b[38;5;124;03m    \"\"\"\u001b[39;00m\n\u001b[0;32m--> 106\u001b[0m     inputs \u001b[38;5;241m=\u001b[39m \u001b[38;5;28;43mself\u001b[39;49m\u001b[38;5;241;43m.\u001b[39;49m\u001b[43mprep_inputs\u001b[49m\u001b[43m(\u001b[49m\u001b[43minputs\u001b[49m\u001b[43m)\u001b[49m\n\u001b[1;32m    107\u001b[0m     \u001b[38;5;28mself\u001b[39m\u001b[38;5;241m.\u001b[39mcallback_manager\u001b[38;5;241m.\u001b[39mon_chain_start(\n\u001b[1;32m    108\u001b[0m         {\u001b[38;5;124m\"\u001b[39m\u001b[38;5;124mname\u001b[39m\u001b[38;5;124m\"\u001b[39m: \u001b[38;5;28mself\u001b[39m\u001b[38;5;241m.\u001b[39m\u001b[38;5;18m__class__\u001b[39m\u001b[38;5;241m.\u001b[39m\u001b[38;5;18m__name__\u001b[39m},\n\u001b[1;32m    109\u001b[0m         inputs,\n\u001b[1;32m    110\u001b[0m         verbose\u001b[38;5;241m=\u001b[39m\u001b[38;5;28mself\u001b[39m\u001b[38;5;241m.\u001b[39mverbose,\n\u001b[1;32m    111\u001b[0m     )\n\u001b[1;32m    112\u001b[0m     \u001b[38;5;28;01mtry\u001b[39;00m:\n",
      "File \u001b[0;32m~/miniconda3/lib/python3.11/site-packages/langchain/chains/base.py:185\u001b[0m, in \u001b[0;36mChain.prep_inputs\u001b[0;34m(self, inputs)\u001b[0m\n\u001b[1;32m    183\u001b[0m         _input_keys \u001b[38;5;241m=\u001b[39m _input_keys\u001b[38;5;241m.\u001b[39mdifference(\u001b[38;5;28mself\u001b[39m\u001b[38;5;241m.\u001b[39mmemory\u001b[38;5;241m.\u001b[39mmemory_variables)\n\u001b[1;32m    184\u001b[0m     \u001b[38;5;28;01mif\u001b[39;00m \u001b[38;5;28mlen\u001b[39m(_input_keys) \u001b[38;5;241m!=\u001b[39m \u001b[38;5;241m1\u001b[39m:\n\u001b[0;32m--> 185\u001b[0m         \u001b[38;5;28;01mraise\u001b[39;00m \u001b[38;5;167;01mValueError\u001b[39;00m(\n\u001b[1;32m    186\u001b[0m             \u001b[38;5;124mf\u001b[39m\u001b[38;5;124m\"\u001b[39m\u001b[38;5;124mA single string input was passed in, but this chain expects \u001b[39m\u001b[38;5;124m\"\u001b[39m\n\u001b[1;32m    187\u001b[0m             \u001b[38;5;124mf\u001b[39m\u001b[38;5;124m\"\u001b[39m\u001b[38;5;124mmultiple inputs (\u001b[39m\u001b[38;5;132;01m{\u001b[39;00m_input_keys\u001b[38;5;132;01m}\u001b[39;00m\u001b[38;5;124m). When a chain expects \u001b[39m\u001b[38;5;124m\"\u001b[39m\n\u001b[1;32m    188\u001b[0m             \u001b[38;5;124mf\u001b[39m\u001b[38;5;124m\"\u001b[39m\u001b[38;5;124mmultiple inputs, please call it by passing in a dictionary, \u001b[39m\u001b[38;5;124m\"\u001b[39m\n\u001b[1;32m    189\u001b[0m             \u001b[38;5;124m\"\u001b[39m\u001b[38;5;124meg `chain(\u001b[39m\u001b[38;5;124m{\u001b[39m\u001b[38;5;124m'\u001b[39m\u001b[38;5;124mfoo\u001b[39m\u001b[38;5;124m'\u001b[39m\u001b[38;5;124m: 1, \u001b[39m\u001b[38;5;124m'\u001b[39m\u001b[38;5;124mbar\u001b[39m\u001b[38;5;124m'\u001b[39m\u001b[38;5;124m: 2})`\u001b[39m\u001b[38;5;124m\"\u001b[39m\n\u001b[1;32m    190\u001b[0m         )\n\u001b[1;32m    191\u001b[0m     inputs \u001b[38;5;241m=\u001b[39m {\u001b[38;5;28mlist\u001b[39m(_input_keys)[\u001b[38;5;241m0\u001b[39m]: inputs}\n\u001b[1;32m    192\u001b[0m \u001b[38;5;28;01mif\u001b[39;00m \u001b[38;5;28mself\u001b[39m\u001b[38;5;241m.\u001b[39mmemory \u001b[38;5;129;01mis\u001b[39;00m \u001b[38;5;129;01mnot\u001b[39;00m \u001b[38;5;28;01mNone\u001b[39;00m:\n",
      "\u001b[0;31mValueError\u001b[0m: A single string input was passed in, but this chain expects multiple inputs ({'word_to_define', 'example'}). When a chain expects multiple inputs, please call it by passing in a dictionary, eg `chain({'foo': 1, 'bar': 2})`"
     ]
    }
   ],
   "source": []
  },
  {
   "cell_type": "code",
   "execution_count": null,
   "id": "7c0fae9c",
   "metadata": {},
   "outputs": [],
   "source": []
  },
  {
   "cell_type": "code",
   "execution_count": null,
   "id": "1586372f",
   "metadata": {},
   "outputs": [],
   "source": []
  },
  {
   "cell_type": "code",
   "execution_count": null,
   "id": "0f939786",
   "metadata": {},
   "outputs": [],
   "source": []
  },
  {
   "cell_type": "code",
   "execution_count": 99,
   "id": "c48f9652",
   "metadata": {},
   "outputs": [],
   "source": [
    "absolute"
   ]
  },
  {
   "cell_type": "code",
   "execution_count": null,
   "id": "ab231007",
   "metadata": {},
   "outputs": [],
   "source": []
  },
  {
   "cell_type": "code",
   "execution_count": null,
   "id": "76500db6",
   "metadata": {},
   "outputs": [],
   "source": []
  },
  {
   "cell_type": "code",
   "execution_count": null,
   "id": "5a0f941d",
   "metadata": {},
   "outputs": [],
   "source": []
  },
  {
   "cell_type": "code",
   "execution_count": null,
   "id": "eb8fd5d5",
   "metadata": {},
   "outputs": [],
   "source": []
  },
  {
   "cell_type": "code",
   "execution_count": 95,
   "id": "518f1752",
   "metadata": {},
   "outputs": [],
   "source": [
    "x = \"arthur\"\n"
   ]
  },
  {
   "cell_type": "code",
   "execution_count": null,
   "id": "ab92739b",
   "metadata": {},
   "outputs": [],
   "source": [
    "x"
   ]
  },
  {
   "cell_type": "code",
   "execution_count": null,
   "id": "7b8bcd09",
   "metadata": {},
   "outputs": [],
   "source": []
  },
  {
   "cell_type": "code",
   "execution_count": null,
   "id": "acced3f2",
   "metadata": {},
   "outputs": [],
   "source": []
  },
  {
   "cell_type": "code",
   "execution_count": null,
   "id": "278af718",
   "metadata": {},
   "outputs": [],
   "source": []
  },
  {
   "cell_type": "code",
   "execution_count": null,
   "id": "a373314d",
   "metadata": {},
   "outputs": [],
   "source": []
  },
  {
   "cell_type": "code",
   "execution_count": null,
   "id": "6a84bd20",
   "metadata": {},
   "outputs": [],
   "source": []
  },
  {
   "cell_type": "code",
   "execution_count": null,
   "id": "cc2ec03b",
   "metadata": {},
   "outputs": [],
   "source": []
  },
  {
   "cell_type": "code",
   "execution_count": null,
   "id": "f032b779",
   "metadata": {},
   "outputs": [],
   "source": []
  },
  {
   "cell_type": "code",
   "execution_count": 2,
   "id": "dedc8129",
   "metadata": {},
   "outputs": [],
   "source": [
    "json_string = '''\n",
    "{\n",
    "  \"word\": \"alloy\",\n",
    "  \"definition\": [\n",
    "    \"A metal formed by combining two or more metallic elements.\",\n",
    "    \"The result of mixing a metal with other materials.\"\n",
    "  ]\n",
    "}\n",
    "'''"
   ]
  },
  {
   "cell_type": "code",
   "execution_count": 6,
   "id": "7287a0e8",
   "metadata": {},
   "outputs": [],
   "source": [
    "import json"
   ]
  },
  {
   "cell_type": "code",
   "execution_count": 10,
   "id": "15a81561",
   "metadata": {},
   "outputs": [
    {
     "data": {
      "text/plain": [
       "{'word': 'alloy',\n",
       " 'definition': ['A metal formed by combining two or more metallic elements.',\n",
       "  'The result of mixing a metal with other materials.']}"
      ]
     },
     "execution_count": 10,
     "metadata": {},
     "output_type": "execute_result"
    }
   ],
   "source": [
    "json.loads(json_string.strip().replace(\"'\", \"\\\"\"))"
   ]
  },
  {
   "cell_type": "code",
   "execution_count": null,
   "id": "28d01982",
   "metadata": {},
   "outputs": [],
   "source": []
  },
  {
   "cell_type": "code",
   "execution_count": null,
   "id": "ebff1c4a",
   "metadata": {},
   "outputs": [],
   "source": []
  },
  {
   "cell_type": "code",
   "execution_count": null,
   "id": "c99da83e",
   "metadata": {},
   "outputs": [],
   "source": []
  },
  {
   "cell_type": "code",
   "execution_count": null,
   "id": "d228b629",
   "metadata": {},
   "outputs": [],
   "source": []
  },
  {
   "cell_type": "code",
   "execution_count": null,
   "id": "1a0333fc",
   "metadata": {},
   "outputs": [],
   "source": []
  },
  {
   "cell_type": "code",
   "execution_count": null,
   "id": "e1ee571a",
   "metadata": {},
   "outputs": [],
   "source": []
  },
  {
   "cell_type": "code",
   "execution_count": null,
   "id": "14fb84f8",
   "metadata": {},
   "outputs": [],
   "source": []
  },
  {
   "cell_type": "code",
   "execution_count": 82,
   "id": "56631a01",
   "metadata": {},
   "outputs": [
    {
     "data": {
      "text/plain": [
       "{'word': 'alloy',\n",
       " 'definition': ['A metal formed by combining two or more metallic elements.',\n",
       "  'The result of mixing a metal with other materials.']}"
      ]
     },
     "execution_count": 82,
     "metadata": {},
     "output_type": "execute_result"
    }
   ],
   "source": [
    "alloy"
   ]
  },
  {
   "cell_type": "code",
   "execution_count": 83,
   "id": "ab380c76",
   "metadata": {},
   "outputs": [
    {
     "data": {
      "text/plain": [
       "{'word': 'alloy',\n",
       " 'definitions': ['a metallic substance made by melting two or more metals together, at least one component of which is a metal',\n",
       "  'any homogeneous mixture composed of two or more substances, the properties of which are different from those of its components']}"
      ]
     },
     "execution_count": 83,
     "metadata": {},
     "output_type": "execute_result"
    }
   ],
   "source": [
    "gravel"
   ]
  },
  {
   "cell_type": "code",
   "execution_count": null,
   "id": "218e6e30",
   "metadata": {},
   "outputs": [],
   "source": []
  },
  {
   "cell_type": "code",
   "execution_count": null,
   "id": "9542b69f",
   "metadata": {},
   "outputs": [],
   "source": []
  },
  {
   "cell_type": "code",
   "execution_count": null,
   "id": "d69bd514",
   "metadata": {},
   "outputs": [],
   "source": []
  },
  {
   "cell_type": "code",
   "execution_count": null,
   "id": "9eb0b759",
   "metadata": {},
   "outputs": [],
   "source": []
  },
  {
   "cell_type": "code",
   "execution_count": null,
   "id": "c3fff444",
   "metadata": {},
   "outputs": [],
   "source": []
  },
  {
   "cell_type": "code",
   "execution_count": null,
   "id": "b6ed3706",
   "metadata": {},
   "outputs": [],
   "source": []
  },
  {
   "cell_type": "code",
   "execution_count": null,
   "id": "3b6028d3",
   "metadata": {},
   "outputs": [],
   "source": []
  },
  {
   "cell_type": "code",
   "execution_count": null,
   "id": "d2fec609",
   "metadata": {},
   "outputs": [],
   "source": []
  },
  {
   "cell_type": "code",
   "execution_count": null,
   "id": "7adcac6d",
   "metadata": {},
   "outputs": [],
   "source": []
  },
  {
   "cell_type": "code",
   "execution_count": null,
   "id": "95d1f51a",
   "metadata": {},
   "outputs": [],
   "source": []
  },
  {
   "cell_type": "code",
   "execution_count": null,
   "id": "36fea33a",
   "metadata": {},
   "outputs": [],
   "source": []
  },
  {
   "cell_type": "code",
   "execution_count": null,
   "id": "992e3b42",
   "metadata": {},
   "outputs": [],
   "source": []
  },
  {
   "cell_type": "code",
   "execution_count": null,
   "id": "215ba506",
   "metadata": {},
   "outputs": [],
   "source": []
  },
  {
   "cell_type": "code",
   "execution_count": null,
   "id": "2db904e0",
   "metadata": {},
   "outputs": [],
   "source": []
  },
  {
   "cell_type": "code",
   "execution_count": null,
   "id": "f5a2a945",
   "metadata": {},
   "outputs": [],
   "source": []
  },
  {
   "cell_type": "code",
   "execution_count": null,
   "id": "0cf4b0cc",
   "metadata": {},
   "outputs": [],
   "source": []
  },
  {
   "cell_type": "code",
   "execution_count": null,
   "id": "ca2a379c",
   "metadata": {},
   "outputs": [],
   "source": []
  },
  {
   "cell_type": "code",
   "execution_count": null,
   "id": "87325bb1",
   "metadata": {},
   "outputs": [],
   "source": []
  },
  {
   "cell_type": "code",
   "execution_count": null,
   "id": "8de5fb9c",
   "metadata": {},
   "outputs": [],
   "source": []
  },
  {
   "cell_type": "code",
   "execution_count": null,
   "id": "81bb8a5a",
   "metadata": {},
   "outputs": [],
   "source": []
  },
  {
   "cell_type": "code",
   "execution_count": 46,
   "id": "76619519",
   "metadata": {},
   "outputs": [],
   "source": []
  },
  {
   "cell_type": "code",
   "execution_count": null,
   "id": "02f3e6d9",
   "metadata": {},
   "outputs": [],
   "source": []
  },
  {
   "cell_type": "code",
   "execution_count": null,
   "id": "9cd87ef8",
   "metadata": {},
   "outputs": [],
   "source": []
  },
  {
   "cell_type": "code",
   "execution_count": null,
   "id": "67b2b7b0",
   "metadata": {},
   "outputs": [],
   "source": []
  },
  {
   "cell_type": "code",
   "execution_count": null,
   "id": "d4a4aa00",
   "metadata": {},
   "outputs": [],
   "source": []
  },
  {
   "cell_type": "code",
   "execution_count": null,
   "id": "4b1c21ee",
   "metadata": {},
   "outputs": [],
   "source": []
  },
  {
   "cell_type": "code",
   "execution_count": 50,
   "id": "9518b905",
   "metadata": {},
   "outputs": [],
   "source": []
  },
  {
   "cell_type": "code",
   "execution_count": null,
   "id": "ebb33689",
   "metadata": {},
   "outputs": [],
   "source": []
  },
  {
   "cell_type": "code",
   "execution_count": null,
   "id": "5ffff0de",
   "metadata": {},
   "outputs": [],
   "source": []
  },
  {
   "cell_type": "code",
   "execution_count": 52,
   "id": "f87c1d59",
   "metadata": {},
   "outputs": [],
   "source": [
    "parallel = json.loads(extract(parallel))"
   ]
  },
  {
   "cell_type": "code",
   "execution_count": 61,
   "id": "17ca9fc3",
   "metadata": {},
   "outputs": [],
   "source": []
  },
  {
   "cell_type": "code",
   "execution_count": 62,
   "id": "1c1eaed4",
   "metadata": {},
   "outputs": [
    {
     "data": {
      "text/plain": [
       "{'word': 'parallel',\n",
       " 'definition': ['Simultaneous',\n",
       "  'at the same time',\n",
       "  'side by side',\n",
       "  'like lines extending in the same direction but never meeting each other',\n",
       "  'resembling or corresponding to something else exactly']}"
      ]
     },
     "execution_count": 62,
     "metadata": {},
     "output_type": "execute_result"
    }
   ],
   "source": []
  },
  {
   "cell_type": "code",
   "execution_count": null,
   "id": "5d805296",
   "metadata": {},
   "outputs": [],
   "source": []
  },
  {
   "cell_type": "code",
   "execution_count": null,
   "id": "4e35888c",
   "metadata": {},
   "outputs": [],
   "source": []
  },
  {
   "cell_type": "code",
   "execution_count": null,
   "id": "1eedb0d2",
   "metadata": {},
   "outputs": [],
   "source": []
  },
  {
   "cell_type": "code",
   "execution_count": null,
   "id": "fab63828",
   "metadata": {},
   "outputs": [],
   "source": []
  },
  {
   "cell_type": "code",
   "execution_count": null,
   "id": "c351a91e",
   "metadata": {},
   "outputs": [],
   "source": []
  },
  {
   "cell_type": "code",
   "execution_count": null,
   "id": "a4559888",
   "metadata": {},
   "outputs": [],
   "source": []
  },
  {
   "cell_type": "code",
   "execution_count": null,
   "id": "31b979c8",
   "metadata": {},
   "outputs": [],
   "source": []
  },
  {
   "cell_type": "code",
   "execution_count": null,
   "id": "8725259a",
   "metadata": {},
   "outputs": [],
   "source": []
  },
  {
   "cell_type": "code",
   "execution_count": null,
   "id": "93d547e2",
   "metadata": {},
   "outputs": [],
   "source": []
  },
  {
   "cell_type": "code",
   "execution_count": null,
   "id": "50dd9627",
   "metadata": {},
   "outputs": [],
   "source": []
  },
  {
   "cell_type": "code",
   "execution_count": null,
   "id": "267ef7cd",
   "metadata": {},
   "outputs": [],
   "source": []
  },
  {
   "cell_type": "code",
   "execution_count": null,
   "id": "963b58f0",
   "metadata": {},
   "outputs": [],
   "source": []
  },
  {
   "cell_type": "code",
   "execution_count": 39,
   "id": "a565cc2d",
   "metadata": {},
   "outputs": [
    {
     "ename": "JSONDecodeError",
     "evalue": "Expecting ',' delimiter: line 8 column 1 (char 273)",
     "output_type": "error",
     "traceback": [
      "\u001b[0;31m---------------------------------------------------------------------------\u001b[0m",
      "\u001b[0;31mJSONDecodeError\u001b[0m                           Traceback (most recent call last)",
      "Cell \u001b[0;32mIn[39], line 2\u001b[0m\n\u001b[1;32m      1\u001b[0m \u001b[38;5;28;01mimport\u001b[39;00m \u001b[38;5;21;01mjson\u001b[39;00m\n\u001b[0;32m----> 2\u001b[0m \u001b[43mjson\u001b[49m\u001b[38;5;241;43m.\u001b[39;49m\u001b[43mloads\u001b[49m\u001b[43m(\u001b[49m\u001b[43mcontextualize\u001b[49m\u001b[43m)\u001b[49m\n",
      "File \u001b[0;32m~/miniconda3/lib/python3.11/json/__init__.py:346\u001b[0m, in \u001b[0;36mloads\u001b[0;34m(s, cls, object_hook, parse_float, parse_int, parse_constant, object_pairs_hook, **kw)\u001b[0m\n\u001b[1;32m    341\u001b[0m     s \u001b[38;5;241m=\u001b[39m s\u001b[38;5;241m.\u001b[39mdecode(detect_encoding(s), \u001b[38;5;124m'\u001b[39m\u001b[38;5;124msurrogatepass\u001b[39m\u001b[38;5;124m'\u001b[39m)\n\u001b[1;32m    343\u001b[0m \u001b[38;5;28;01mif\u001b[39;00m (\u001b[38;5;28mcls\u001b[39m \u001b[38;5;129;01mis\u001b[39;00m \u001b[38;5;28;01mNone\u001b[39;00m \u001b[38;5;129;01mand\u001b[39;00m object_hook \u001b[38;5;129;01mis\u001b[39;00m \u001b[38;5;28;01mNone\u001b[39;00m \u001b[38;5;129;01mand\u001b[39;00m\n\u001b[1;32m    344\u001b[0m         parse_int \u001b[38;5;129;01mis\u001b[39;00m \u001b[38;5;28;01mNone\u001b[39;00m \u001b[38;5;129;01mand\u001b[39;00m parse_float \u001b[38;5;129;01mis\u001b[39;00m \u001b[38;5;28;01mNone\u001b[39;00m \u001b[38;5;129;01mand\u001b[39;00m\n\u001b[1;32m    345\u001b[0m         parse_constant \u001b[38;5;129;01mis\u001b[39;00m \u001b[38;5;28;01mNone\u001b[39;00m \u001b[38;5;129;01mand\u001b[39;00m object_pairs_hook \u001b[38;5;129;01mis\u001b[39;00m \u001b[38;5;28;01mNone\u001b[39;00m \u001b[38;5;129;01mand\u001b[39;00m \u001b[38;5;129;01mnot\u001b[39;00m kw):\n\u001b[0;32m--> 346\u001b[0m     \u001b[38;5;28;01mreturn\u001b[39;00m \u001b[43m_default_decoder\u001b[49m\u001b[38;5;241;43m.\u001b[39;49m\u001b[43mdecode\u001b[49m\u001b[43m(\u001b[49m\u001b[43ms\u001b[49m\u001b[43m)\u001b[49m\n\u001b[1;32m    347\u001b[0m \u001b[38;5;28;01mif\u001b[39;00m \u001b[38;5;28mcls\u001b[39m \u001b[38;5;129;01mis\u001b[39;00m \u001b[38;5;28;01mNone\u001b[39;00m:\n\u001b[1;32m    348\u001b[0m     \u001b[38;5;28mcls\u001b[39m \u001b[38;5;241m=\u001b[39m JSONDecoder\n",
      "File \u001b[0;32m~/miniconda3/lib/python3.11/json/decoder.py:337\u001b[0m, in \u001b[0;36mJSONDecoder.decode\u001b[0;34m(self, s, _w)\u001b[0m\n\u001b[1;32m    332\u001b[0m \u001b[38;5;28;01mdef\u001b[39;00m \u001b[38;5;21mdecode\u001b[39m(\u001b[38;5;28mself\u001b[39m, s, _w\u001b[38;5;241m=\u001b[39mWHITESPACE\u001b[38;5;241m.\u001b[39mmatch):\n\u001b[1;32m    333\u001b[0m \u001b[38;5;250m    \u001b[39m\u001b[38;5;124;03m\"\"\"Return the Python representation of ``s`` (a ``str`` instance\u001b[39;00m\n\u001b[1;32m    334\u001b[0m \u001b[38;5;124;03m    containing a JSON document).\u001b[39;00m\n\u001b[1;32m    335\u001b[0m \n\u001b[1;32m    336\u001b[0m \u001b[38;5;124;03m    \"\"\"\u001b[39;00m\n\u001b[0;32m--> 337\u001b[0m     obj, end \u001b[38;5;241m=\u001b[39m \u001b[38;5;28;43mself\u001b[39;49m\u001b[38;5;241;43m.\u001b[39;49m\u001b[43mraw_decode\u001b[49m\u001b[43m(\u001b[49m\u001b[43ms\u001b[49m\u001b[43m,\u001b[49m\u001b[43m \u001b[49m\u001b[43midx\u001b[49m\u001b[38;5;241;43m=\u001b[39;49m\u001b[43m_w\u001b[49m\u001b[43m(\u001b[49m\u001b[43ms\u001b[49m\u001b[43m,\u001b[49m\u001b[43m \u001b[49m\u001b[38;5;241;43m0\u001b[39;49m\u001b[43m)\u001b[49m\u001b[38;5;241;43m.\u001b[39;49m\u001b[43mend\u001b[49m\u001b[43m(\u001b[49m\u001b[43m)\u001b[49m\u001b[43m)\u001b[49m\n\u001b[1;32m    338\u001b[0m     end \u001b[38;5;241m=\u001b[39m _w(s, end)\u001b[38;5;241m.\u001b[39mend()\n\u001b[1;32m    339\u001b[0m     \u001b[38;5;28;01mif\u001b[39;00m end \u001b[38;5;241m!=\u001b[39m \u001b[38;5;28mlen\u001b[39m(s):\n",
      "File \u001b[0;32m~/miniconda3/lib/python3.11/json/decoder.py:353\u001b[0m, in \u001b[0;36mJSONDecoder.raw_decode\u001b[0;34m(self, s, idx)\u001b[0m\n\u001b[1;32m    344\u001b[0m \u001b[38;5;250m\u001b[39m\u001b[38;5;124;03m\"\"\"Decode a JSON document from ``s`` (a ``str`` beginning with\u001b[39;00m\n\u001b[1;32m    345\u001b[0m \u001b[38;5;124;03ma JSON document) and return a 2-tuple of the Python\u001b[39;00m\n\u001b[1;32m    346\u001b[0m \u001b[38;5;124;03mrepresentation and the index in ``s`` where the document ended.\u001b[39;00m\n\u001b[0;32m   (...)\u001b[0m\n\u001b[1;32m    350\u001b[0m \n\u001b[1;32m    351\u001b[0m \u001b[38;5;124;03m\"\"\"\u001b[39;00m\n\u001b[1;32m    352\u001b[0m \u001b[38;5;28;01mtry\u001b[39;00m:\n\u001b[0;32m--> 353\u001b[0m     obj, end \u001b[38;5;241m=\u001b[39m \u001b[38;5;28;43mself\u001b[39;49m\u001b[38;5;241;43m.\u001b[39;49m\u001b[43mscan_once\u001b[49m\u001b[43m(\u001b[49m\u001b[43ms\u001b[49m\u001b[43m,\u001b[49m\u001b[43m \u001b[49m\u001b[43midx\u001b[49m\u001b[43m)\u001b[49m\n\u001b[1;32m    354\u001b[0m \u001b[38;5;28;01mexcept\u001b[39;00m \u001b[38;5;167;01mStopIteration\u001b[39;00m \u001b[38;5;28;01mas\u001b[39;00m err:\n\u001b[1;32m    355\u001b[0m     \u001b[38;5;28;01mraise\u001b[39;00m JSONDecodeError(\u001b[38;5;124m\"\u001b[39m\u001b[38;5;124mExpecting value\u001b[39m\u001b[38;5;124m\"\u001b[39m, s, err\u001b[38;5;241m.\u001b[39mvalue) \u001b[38;5;28;01mfrom\u001b[39;00m \u001b[38;5;28;01mNone\u001b[39;00m\n",
      "\u001b[0;31mJSONDecodeError\u001b[0m: Expecting ',' delimiter: line 8 column 1 (char 273)"
     ]
    }
   ],
   "source": [
    "import json\n",
    "json.loads(contextualize)"
   ]
  },
  {
   "cell_type": "code",
   "execution_count": null,
   "id": "8e94088c",
   "metadata": {},
   "outputs": [],
   "source": []
  },
  {
   "cell_type": "code",
   "execution_count": null,
   "id": "3e8f3e5b",
   "metadata": {},
   "outputs": [],
   "source": []
  },
  {
   "cell_type": "code",
   "execution_count": null,
   "id": "9dc9225b",
   "metadata": {},
   "outputs": [],
   "source": []
  },
  {
   "cell_type": "code",
   "execution_count": null,
   "id": "d0b3e556",
   "metadata": {},
   "outputs": [],
   "source": []
  },
  {
   "cell_type": "code",
   "execution_count": null,
   "id": "c7e427ed",
   "metadata": {},
   "outputs": [],
   "source": []
  },
  {
   "cell_type": "code",
   "execution_count": null,
   "id": "a7f6d260",
   "metadata": {},
   "outputs": [],
   "source": []
  },
  {
   "cell_type": "code",
   "execution_count": null,
   "id": "e32a8e5b",
   "metadata": {},
   "outputs": [],
   "source": []
  },
  {
   "cell_type": "code",
   "execution_count": null,
   "id": "b53e484d",
   "metadata": {},
   "outputs": [],
   "source": []
  },
  {
   "cell_type": "code",
   "execution_count": null,
   "id": "e9794595",
   "metadata": {},
   "outputs": [],
   "source": []
  },
  {
   "cell_type": "code",
   "execution_count": null,
   "id": "6d827fb0",
   "metadata": {},
   "outputs": [],
   "source": []
  },
  {
   "cell_type": "code",
   "execution_count": null,
   "id": "11aa81f1",
   "metadata": {},
   "outputs": [],
   "source": []
  },
  {
   "cell_type": "code",
   "execution_count": 28,
   "id": "92c96fcc",
   "metadata": {},
   "outputs": [
    {
     "ename": "AttributeError",
     "evalue": "'str' object has no attribute 'substring'",
     "output_type": "error",
     "traceback": [
      "\u001b[0;31m---------------------------------------------------------------------------\u001b[0m",
      "\u001b[0;31mAttributeError\u001b[0m                            Traceback (most recent call last)",
      "Cell \u001b[0;32mIn[28], line 1\u001b[0m\n\u001b[0;32m----> 1\u001b[0m contextualize \u001b[38;5;241m=\u001b[39m \u001b[43mextract\u001b[49m\u001b[43m(\u001b[49m\u001b[43mcontextualize\u001b[49m\u001b[43m)\u001b[49m\n",
      "Cell \u001b[0;32mIn[27], line 8\u001b[0m, in \u001b[0;36mextract\u001b[0;34m(word)\u001b[0m\n\u001b[1;32m      6\u001b[0m open_b, ob_p \u001b[38;5;241m=\u001b[39m c[\u001b[38;5;124m'\u001b[39m\u001b[38;5;124m{\u001b[39m\u001b[38;5;124m'\u001b[39m], word\u001b[38;5;241m.\u001b[39mindex(\u001b[38;5;124m\"\u001b[39m\u001b[38;5;124m{\u001b[39m\u001b[38;5;124m\"\u001b[39m)\n\u001b[1;32m      7\u001b[0m close_b, cb_p \u001b[38;5;241m=\u001b[39m c[\u001b[38;5;124m'\u001b[39m\u001b[38;5;124m}\u001b[39m\u001b[38;5;124m'\u001b[39m], word\u001b[38;5;241m.\u001b[39mindex(\u001b[38;5;124m\"\u001b[39m\u001b[38;5;124m}\u001b[39m\u001b[38;5;124m\"\u001b[39m)\n\u001b[0;32m----> 8\u001b[0m \u001b[38;5;28;01mreturn\u001b[39;00m \u001b[43mword\u001b[49m\u001b[38;5;241;43m.\u001b[39;49m\u001b[43msubstring\u001b[49m(ob_p, cb_p)\n",
      "\u001b[0;31mAttributeError\u001b[0m: 'str' object has no attribute 'substring'"
     ]
    }
   ],
   "source": []
  },
  {
   "cell_type": "code",
   "execution_count": null,
   "id": "4f760eb6",
   "metadata": {},
   "outputs": [],
   "source": []
  },
  {
   "cell_type": "code",
   "execution_count": null,
   "id": "98e62267",
   "metadata": {},
   "outputs": [],
   "source": []
  },
  {
   "cell_type": "code",
   "execution_count": 10,
   "id": "4a384e20",
   "metadata": {},
   "outputs": [],
   "source": [
    "\n"
   ]
  },
  {
   "cell_type": "code",
   "execution_count": 11,
   "id": "4e53e913",
   "metadata": {},
   "outputs": [
    {
     "data": {
      "text/plain": [
       "1"
      ]
     },
     "execution_count": 11,
     "metadata": {},
     "output_type": "execute_result"
    }
   ],
   "source": [
    "if open_b == 1 and close_b == 1:\n",
    "    "
   ]
  },
  {
   "cell_type": "code",
   "execution_count": 22,
   "id": "c0f8f557",
   "metadata": {},
   "outputs": [],
   "source": [
    "word = \"wordwordword\""
   ]
  },
  {
   "cell_type": "code",
   "execution_count": null,
   "id": "14291e48",
   "metadata": {},
   "outputs": [],
   "source": []
  },
  {
   "cell_type": "code",
   "execution_count": 24,
   "id": "caaf4a7e",
   "metadata": {},
   "outputs": [
    {
     "name": "stdout",
     "output_type": "stream",
     "text": [
      "0\n",
      "3\n",
      "2\n",
      "1\n",
      "0\n",
      "3\n",
      "2\n",
      "1\n",
      "0\n"
     ]
    },
    {
     "ename": "ValueError",
     "evalue": "substring not found",
     "output_type": "error",
     "traceback": [
      "\u001b[0;31m---------------------------------------------------------------------------\u001b[0m",
      "\u001b[0;31mValueError\u001b[0m                                Traceback (most recent call last)",
      "Cell \u001b[0;32mIn[24], line 3\u001b[0m\n\u001b[1;32m      1\u001b[0m indices \u001b[38;5;241m=\u001b[39m []\n\u001b[1;32m      2\u001b[0m \u001b[38;5;28;01mfor\u001b[39;00m i, w \u001b[38;5;129;01min\u001b[39;00m \u001b[38;5;28menumerate\u001b[39m(word):\n\u001b[0;32m----> 3\u001b[0m     \u001b[38;5;28mprint\u001b[39m(\u001b[43mword\u001b[49m\u001b[43m[\u001b[49m\u001b[43mi\u001b[49m\u001b[43m:\u001b[49m\u001b[43m]\u001b[49m\u001b[38;5;241;43m.\u001b[39;49m\u001b[43mindex\u001b[49m\u001b[43m(\u001b[49m\u001b[38;5;124;43m\"\u001b[39;49m\u001b[38;5;124;43mw\u001b[39;49m\u001b[38;5;124;43m\"\u001b[39;49m\u001b[43m)\u001b[49m)\n",
      "\u001b[0;31mValueError\u001b[0m: substring not found"
     ]
    }
   ],
   "source": [
    "indices = []\n",
    "for i, w in enumerate(word):\n",
    "    indices(word[i:].index(\"w\"))\n",
    "    \n",
    "    "
   ]
  },
  {
   "cell_type": "code",
   "execution_count": null,
   "id": "75939fce",
   "metadata": {},
   "outputs": [],
   "source": []
  },
  {
   "cell_type": "code",
   "execution_count": null,
   "id": "93a5c8af",
   "metadata": {},
   "outputs": [],
   "source": []
  },
  {
   "cell_type": "code",
   "execution_count": null,
   "id": "7af4743c",
   "metadata": {},
   "outputs": [],
   "source": []
  },
  {
   "cell_type": "code",
   "execution_count": null,
   "id": "1881c572",
   "metadata": {},
   "outputs": [],
   "source": []
  },
  {
   "cell_type": "code",
   "execution_count": null,
   "id": "a11c5a08",
   "metadata": {},
   "outputs": [],
   "source": []
  },
  {
   "cell_type": "code",
   "execution_count": null,
   "id": "da6424c8",
   "metadata": {},
   "outputs": [],
   "source": []
  },
  {
   "cell_type": "code",
   "execution_count": null,
   "id": "86c12948",
   "metadata": {},
   "outputs": [],
   "source": []
  },
  {
   "cell_type": "code",
   "execution_count": null,
   "id": "b4076fda",
   "metadata": {},
   "outputs": [],
   "source": []
  },
  {
   "cell_type": "code",
   "execution_count": null,
   "id": "59ba9bd7",
   "metadata": {},
   "outputs": [],
   "source": []
  },
  {
   "cell_type": "code",
   "execution_count": null,
   "id": "6addc9d1",
   "metadata": {},
   "outputs": [],
   "source": [
    "w"
   ]
  },
  {
   "cell_type": "code",
   "execution_count": null,
   "id": "76780f2b",
   "metadata": {},
   "outputs": [],
   "source": []
  },
  {
   "cell_type": "code",
   "execution_count": null,
   "id": "f1c1539a",
   "metadata": {},
   "outputs": [],
   "source": []
  },
  {
   "cell_type": "code",
   "execution_count": null,
   "id": "70126807",
   "metadata": {},
   "outputs": [],
   "source": []
  },
  {
   "cell_type": "code",
   "execution_count": 5,
   "id": "ed938202",
   "metadata": {},
   "outputs": [
    {
     "data": {
      "text/plain": [
       "''"
      ]
     },
     "execution_count": 5,
     "metadata": {},
     "output_type": "execute_result"
    }
   ],
   "source": [
    "contextualize"
   ]
  },
  {
   "cell_type": "code",
   "execution_count": null,
   "id": "34407bd7",
   "metadata": {},
   "outputs": [],
   "source": []
  },
  {
   "cell_type": "code",
   "execution_count": null,
   "id": "f52ef18c",
   "metadata": {},
   "outputs": [],
   "source": []
  },
  {
   "cell_type": "code",
   "execution_count": null,
   "id": "8f1165d2",
   "metadata": {},
   "outputs": [],
   "source": []
  },
  {
   "cell_type": "code",
   "execution_count": null,
   "id": "09c1bca9",
   "metadata": {},
   "outputs": [],
   "source": []
  },
  {
   "cell_type": "code",
   "execution_count": null,
   "id": "cdfba28b",
   "metadata": {},
   "outputs": [],
   "source": []
  },
  {
   "cell_type": "code",
   "execution_count": null,
   "id": "e4c06c30",
   "metadata": {},
   "outputs": [],
   "source": []
  },
  {
   "cell_type": "code",
   "execution_count": 114,
   "id": "999954c3",
   "metadata": {},
   "outputs": [
    {
     "name": "stdout",
     "output_type": "stream",
     "text": [
      "/Users/arthur/AI/LLM/llama.cpp/models/30B/ggml-model-30B-q4_0.bin\n",
      "/Users/arthur/AI/LLM/llama.cpp/models/30B/ggml-model-f16.bin\n"
     ]
    }
   ],
   "source": [
    "ls ~/AI/LLM/llama.cpp/models/30B/*.bin"
   ]
  },
  {
   "cell_type": "code",
   "execution_count": null,
   "id": "3ffa68d5",
   "metadata": {},
   "outputs": [],
   "source": []
  },
  {
   "cell_type": "code",
   "execution_count": null,
   "id": "1941bf4f",
   "metadata": {},
   "outputs": [],
   "source": []
  },
  {
   "cell_type": "code",
   "execution_count": null,
   "id": "f3720987",
   "metadata": {},
   "outputs": [],
   "source": []
  },
  {
   "cell_type": "code",
   "execution_count": null,
   "id": "356622ce",
   "metadata": {},
   "outputs": [],
   "source": []
  },
  {
   "cell_type": "code",
   "execution_count": null,
   "id": "a4640148",
   "metadata": {},
   "outputs": [],
   "source": []
  },
  {
   "cell_type": "code",
   "execution_count": null,
   "id": "01a2301d",
   "metadata": {},
   "outputs": [],
   "source": []
  },
  {
   "cell_type": "code",
   "execution_count": null,
   "id": "dd63d8fd",
   "metadata": {},
   "outputs": [],
   "source": [
    "from langchain.llms import LlamaCpp\n",
    "from langchain import PromptTemplate, LLMChain\n",
    "from langchain.callbacks.base import CallbackManager\n",
    "from langchain.callbacks.streaming_stdout import StreamingStdOutCallbackHandler\n",
    "\n",
    "model = '/Users/arthur/Downloads/alpaca-lora-65B.GGML.q4_2.bin'\n",
    "\n",
    "template = \"\"\"Word to define: {word_to_define}\n",
    "\n",
    "Response: Please respond with a valid JSON response with 2 keys: 'word' for the word that we want to define, and 'definition', which has an array of all correct and valid string definitions of the word for the definitions.\"\"\"\n",
    "\n",
    "prompt = PromptTemplate(template=template, input_variables=[\"word_to_define\"])\n",
    "\n",
    "model = \"/Users/arthur/Downloads/alpaca-lora-65B.GGML.q4_2.bin\"\n",
    "\n",
    "# Callbacks support token-wise streaming\n",
    "callback_manager = CallbackManager([StreamingStdOutCallbackHandler()])\n",
    "# Verbose is required to pass to the callback manager\n",
    "\n",
    "# Make sure the model path is correct for your system!\n",
    "llm = LlamaCpp(\n",
    "    model_path=model, callback_manager=callback_manager, verbose=True,\n",
    "    max_tokens=1800, n_ctx=2048\n",
    ")\n",
    "\n",
    "llm_chain = LLMChain(prompt=prompt, llm=llm)\n",
    "\n",
    "question = \"\"\n",
    "llm_chain.run(question).strip()"
   ]
  },
  {
   "cell_type": "code",
   "execution_count": null,
   "id": "0a57211f",
   "metadata": {},
   "outputs": [],
   "source": []
  },
  {
   "cell_type": "code",
   "execution_count": null,
   "id": "3b5bb872",
   "metadata": {},
   "outputs": [],
   "source": []
  },
  {
   "cell_type": "code",
   "execution_count": null,
   "id": "ad892525",
   "metadata": {},
   "outputs": [],
   "source": []
  },
  {
   "cell_type": "code",
   "execution_count": 102,
   "id": "e321574e",
   "metadata": {},
   "outputs": [],
   "source": []
  },
  {
   "cell_type": "code",
   "execution_count": null,
   "id": "fbb2f2a9",
   "metadata": {},
   "outputs": [],
   "source": []
  },
  {
   "cell_type": "code",
   "execution_count": null,
   "id": "23065096",
   "metadata": {},
   "outputs": [],
   "source": []
  },
  {
   "cell_type": "code",
   "execution_count": null,
   "id": "61a3f051",
   "metadata": {},
   "outputs": [],
   "source": []
  },
  {
   "cell_type": "code",
   "execution_count": null,
   "id": "6b8318d4",
   "metadata": {},
   "outputs": [],
   "source": []
  },
  {
   "cell_type": "code",
   "execution_count": null,
   "id": "e63922fc",
   "metadata": {},
   "outputs": [],
   "source": []
  },
  {
   "cell_type": "code",
   "execution_count": null,
   "id": "a712cfcf",
   "metadata": {},
   "outputs": [],
   "source": []
  },
  {
   "cell_type": "code",
   "execution_count": null,
   "id": "fc9a3705",
   "metadata": {},
   "outputs": [],
   "source": []
  },
  {
   "cell_type": "code",
   "execution_count": null,
   "id": "39898727",
   "metadata": {},
   "outputs": [],
   "source": []
  },
  {
   "cell_type": "code",
   "execution_count": null,
   "id": "6a1d1ede",
   "metadata": {},
   "outputs": [],
   "source": []
  },
  {
   "cell_type": "code",
   "execution_count": null,
   "id": "dd7e2ca6",
   "metadata": {},
   "outputs": [],
   "source": []
  },
  {
   "cell_type": "code",
   "execution_count": null,
   "id": "4d147867",
   "metadata": {},
   "outputs": [],
   "source": []
  },
  {
   "cell_type": "code",
   "execution_count": null,
   "id": "57b66672",
   "metadata": {},
   "outputs": [],
   "source": []
  },
  {
   "cell_type": "code",
   "execution_count": null,
   "id": "34e3183a",
   "metadata": {},
   "outputs": [],
   "source": []
  },
  {
   "cell_type": "code",
   "execution_count": null,
   "id": "ab6ed448",
   "metadata": {},
   "outputs": [],
   "source": []
  },
  {
   "cell_type": "code",
   "execution_count": null,
   "id": "fdd6527f",
   "metadata": {},
   "outputs": [],
   "source": []
  },
  {
   "cell_type": "code",
   "execution_count": null,
   "id": "fdc7aacf",
   "metadata": {},
   "outputs": [],
   "source": []
  },
  {
   "cell_type": "code",
   "execution_count": null,
   "id": "4d2609ce",
   "metadata": {},
   "outputs": [],
   "source": []
  },
  {
   "cell_type": "code",
   "execution_count": null,
   "id": "0835c725",
   "metadata": {},
   "outputs": [],
   "source": []
  },
  {
   "cell_type": "code",
   "execution_count": null,
   "id": "46b9985e",
   "metadata": {},
   "outputs": [],
   "source": []
  },
  {
   "cell_type": "code",
   "execution_count": null,
   "id": "2b6dbe94",
   "metadata": {},
   "outputs": [],
   "source": []
  },
  {
   "cell_type": "code",
   "execution_count": null,
   "id": "dbc844a8",
   "metadata": {},
   "outputs": [],
   "source": []
  },
  {
   "cell_type": "code",
   "execution_count": null,
   "id": "0db570bc",
   "metadata": {},
   "outputs": [],
   "source": []
  },
  {
   "cell_type": "code",
   "execution_count": null,
   "id": "08390158",
   "metadata": {},
   "outputs": [],
   "source": []
  },
  {
   "cell_type": "code",
   "execution_count": null,
   "id": "2276b492",
   "metadata": {},
   "outputs": [],
   "source": []
  },
  {
   "cell_type": "code",
   "execution_count": null,
   "id": "198a4cb8",
   "metadata": {},
   "outputs": [],
   "source": []
  },
  {
   "cell_type": "code",
   "execution_count": null,
   "id": "babbab63",
   "metadata": {},
   "outputs": [],
   "source": []
  },
  {
   "cell_type": "code",
   "execution_count": null,
   "id": "d4bfb09c",
   "metadata": {},
   "outputs": [],
   "source": []
  },
  {
   "cell_type": "code",
   "execution_count": null,
   "id": "0da0dfc1",
   "metadata": {},
   "outputs": [],
   "source": []
  },
  {
   "cell_type": "code",
   "execution_count": null,
   "id": "7fd55577",
   "metadata": {},
   "outputs": [],
   "source": []
  },
  {
   "cell_type": "code",
   "execution_count": null,
   "id": "ec35e16c",
   "metadata": {},
   "outputs": [],
   "source": []
  },
  {
   "cell_type": "code",
   "execution_count": null,
   "id": "34eb40b7",
   "metadata": {},
   "outputs": [],
   "source": []
  },
  {
   "cell_type": "code",
   "execution_count": null,
   "id": "b352500d",
   "metadata": {},
   "outputs": [],
   "source": []
  },
  {
   "cell_type": "code",
   "execution_count": null,
   "id": "cf6cd5d1",
   "metadata": {},
   "outputs": [],
   "source": []
  },
  {
   "cell_type": "code",
   "execution_count": null,
   "id": "1d6e98ba",
   "metadata": {},
   "outputs": [],
   "source": []
  },
  {
   "cell_type": "code",
   "execution_count": null,
   "id": "517c3bf9",
   "metadata": {},
   "outputs": [],
   "source": []
  },
  {
   "cell_type": "code",
   "execution_count": null,
   "id": "32de2263",
   "metadata": {},
   "outputs": [],
   "source": []
  },
  {
   "cell_type": "code",
   "execution_count": null,
   "id": "c6ad651e",
   "metadata": {},
   "outputs": [],
   "source": []
  },
  {
   "cell_type": "code",
   "execution_count": null,
   "id": "915014e2",
   "metadata": {},
   "outputs": [],
   "source": []
  },
  {
   "cell_type": "code",
   "execution_count": null,
   "id": "79ce4332",
   "metadata": {},
   "outputs": [],
   "source": []
  },
  {
   "cell_type": "code",
   "execution_count": null,
   "id": "0c127c03",
   "metadata": {},
   "outputs": [],
   "source": []
  },
  {
   "cell_type": "code",
   "execution_count": null,
   "id": "9cbd8d18",
   "metadata": {},
   "outputs": [],
   "source": []
  },
  {
   "cell_type": "code",
   "execution_count": null,
   "id": "cd392ef9",
   "metadata": {},
   "outputs": [],
   "source": []
  },
  {
   "cell_type": "code",
   "execution_count": null,
   "id": "b94146b5",
   "metadata": {},
   "outputs": [],
   "source": []
  },
  {
   "cell_type": "code",
   "execution_count": null,
   "id": "b42a9f39",
   "metadata": {},
   "outputs": [],
   "source": []
  },
  {
   "cell_type": "code",
   "execution_count": null,
   "id": "f85b429e",
   "metadata": {},
   "outputs": [],
   "source": []
  },
  {
   "cell_type": "code",
   "execution_count": null,
   "id": "545c5fd3",
   "metadata": {},
   "outputs": [],
   "source": []
  },
  {
   "cell_type": "code",
   "execution_count": null,
   "id": "10a82f7f",
   "metadata": {},
   "outputs": [],
   "source": []
  },
  {
   "cell_type": "code",
   "execution_count": 29,
   "id": "2050435b",
   "metadata": {},
   "outputs": [],
   "source": []
  },
  {
   "cell_type": "code",
   "execution_count": null,
   "id": "7c2c7e00",
   "metadata": {},
   "outputs": [],
   "source": []
  },
  {
   "cell_type": "code",
   "execution_count": null,
   "id": "a953fc11",
   "metadata": {},
   "outputs": [],
   "source": []
  },
  {
   "cell_type": "code",
   "execution_count": null,
   "id": "33405b7c",
   "metadata": {},
   "outputs": [],
   "source": []
  },
  {
   "cell_type": "code",
   "execution_count": null,
   "id": "d4ac8566",
   "metadata": {},
   "outputs": [],
   "source": []
  },
  {
   "cell_type": "code",
   "execution_count": null,
   "id": "c30482eb",
   "metadata": {},
   "outputs": [],
   "source": []
  },
  {
   "cell_type": "code",
   "execution_count": null,
   "id": "6b20696b",
   "metadata": {},
   "outputs": [],
   "source": []
  },
  {
   "cell_type": "code",
   "execution_count": null,
   "id": "5856f6fb",
   "metadata": {},
   "outputs": [],
   "source": []
  },
  {
   "cell_type": "code",
   "execution_count": null,
   "id": "0654a545",
   "metadata": {},
   "outputs": [],
   "source": []
  },
  {
   "cell_type": "code",
   "execution_count": 32,
   "id": "1127ca45",
   "metadata": {},
   "outputs": [
    {
     "name": "stdout",
     "output_type": "stream",
     "text": [
      " The is a definite article that refers to a noun or group previously mentioned in the text."
     ]
    },
    {
     "data": {
      "text/plain": [
       "' The is a definite article that refers to a noun or group previously mentioned in the text.'"
      ]
     },
     "execution_count": 32,
     "metadata": {},
     "output_type": "execute_result"
    }
   ],
   "source": []
  },
  {
   "cell_type": "code",
   "execution_count": null,
   "id": "6ec6db9f",
   "metadata": {},
   "outputs": [],
   "source": []
  },
  {
   "cell_type": "code",
   "execution_count": null,
   "id": "6c4b7b6d",
   "metadata": {},
   "outputs": [],
   "source": []
  },
  {
   "cell_type": "code",
   "execution_count": null,
   "id": "90b53435",
   "metadata": {},
   "outputs": [],
   "source": []
  },
  {
   "cell_type": "code",
   "execution_count": null,
   "id": "d284a9fe",
   "metadata": {},
   "outputs": [],
   "source": []
  },
  {
   "cell_type": "code",
   "execution_count": null,
   "id": "564e977b",
   "metadata": {},
   "outputs": [],
   "source": []
  },
  {
   "cell_type": "code",
   "execution_count": null,
   "id": "9c3b975e",
   "metadata": {},
   "outputs": [],
   "source": []
  },
  {
   "cell_type": "code",
   "execution_count": 17,
   "id": "37928b49",
   "metadata": {},
   "outputs": [
    {
     "name": "stdout",
     "output_type": "stream",
     "text": [
      "\n",
      "\\begin{itemize}\n",
      "\\item Uranium-235(U-235)\n",
      "\\end{itemize}\n",
      "\n",
      "U-235 is an isotope of uranium which contains 92 protons and 143 neutrons in its nucleus. It's a naturally occurring element, but is found in very low concentrations(0.7%). However, it has several applications like nuclear reactors, atomic bombs etc.\n",
      "\\begin{itemize}\n",
      "\\item Yellowcake (Uranium Oxide)\n",
      "\\end{itemize}\n",
      "\n",
      "Yellowcake, also known as uranium oxide is a concentrated form of uranium which is used to make fuel for nuclear reactors and nuclear weapons. It's basically a powder with a yellowish color and it's made by mixing the uranium ore with acids or alkalis to produce uranium compounds, which are then filtered out from the solution and dried to form uranium oxide powder(yellowcake).\n",
      "\\begin{itemize}\n",
      "\\item UF6 (Uranium Hexafluoride)\n",
      "\\end{\n",
      "\\begin{itemize}\n",
      "\\item Uranium-235(U-235)\n",
      "\\end{itemize}\n",
      "\n",
      "U-235 is an isotope of uranium which contains 92 protons and 143 neutrons in its nucleus. It's a naturally occurring element, but is found in very low concentrations(0.7%). However, it has several applications like nuclear reactors, atomic bombs etc.\n",
      "\\begin{itemize}\n",
      "\\item Yellowcake (Uranium Oxide)\n",
      "\\end{itemize}\n",
      "\n",
      "Yellowcake, also known as uranium oxide is a concentrated form of uranium which is used to make fuel for nuclear reactors and nuclear weapons. It's basically a powder with a yellowish color and it's made by mixing the uranium ore with acids or alkalis to produce uranium compounds, which are then filtered out from the solution and dried to form uranium oxide powder(yellowcake).\n",
      "\\begin{itemize}\n",
      "\\item UF6 (Uranium Hexafluoride)\n",
      "\\end{\n"
     ]
    }
   ],
   "source": [
    "question = \"What is the relationship between U235, yellowcake and UF6?\"\n",
    "print(llm_chain.run(question.strip()))"
   ]
  },
  {
   "cell_type": "code",
   "execution_count": null,
   "id": "520a7c92",
   "metadata": {},
   "outputs": [],
   "source": []
  },
  {
   "cell_type": "code",
   "execution_count": null,
   "id": "04d285d4",
   "metadata": {},
   "outputs": [],
   "source": []
  },
  {
   "cell_type": "code",
   "execution_count": null,
   "id": "60fa25cc",
   "metadata": {},
   "outputs": [],
   "source": []
  },
  {
   "cell_type": "code",
   "execution_count": null,
   "id": "ae070acc",
   "metadata": {},
   "outputs": [],
   "source": [
    "\n"
   ]
  },
  {
   "cell_type": "code",
   "execution_count": null,
   "id": "45652b0b",
   "metadata": {},
   "outputs": [],
   "source": []
  },
  {
   "cell_type": "code",
   "execution_count": null,
   "id": "39b535a5",
   "metadata": {},
   "outputs": [],
   "source": []
  },
  {
   "cell_type": "code",
   "execution_count": null,
   "id": "3795760f",
   "metadata": {},
   "outputs": [],
   "source": []
  },
  {
   "cell_type": "code",
   "execution_count": null,
   "id": "59d58a41",
   "metadata": {},
   "outputs": [],
   "source": []
  }
 ],
 "metadata": {
  "kernelspec": {
   "display_name": "Python 3 (ipykernel)",
   "language": "python",
   "name": "python3"
  },
  "language_info": {
   "codemirror_mode": {
    "name": "ipython",
    "version": 3
   },
   "file_extension": ".py",
   "mimetype": "text/x-python",
   "name": "python",
   "nbconvert_exporter": "python",
   "pygments_lexer": "ipython3",
   "version": "3.11.3"
  }
 },
 "nbformat": 4,
 "nbformat_minor": 5
}
